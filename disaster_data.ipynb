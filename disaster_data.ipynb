{
  "nbformat": 4,
  "nbformat_minor": 0,
  "metadata": {
    "colab": {
      "provenance": [],
      "toc_visible": true,
      "authorship_tag": "ABX9TyN78hHo1Pd4ORWlsp1rLvJD",
      "include_colab_link": true
    },
    "kernelspec": {
      "name": "python3",
      "display_name": "Python 3"
    },
    "language_info": {
      "name": "python"
    }
  },
  "cells": [
    {
      "cell_type": "markdown",
      "metadata": {
        "id": "view-in-github",
        "colab_type": "text"
      },
      "source": [
        "<a href=\"https://colab.research.google.com/github/KangHyeonGu1/-/blob/main/disaster_data.ipynb\" target=\"_parent\"><img src=\"https://colab.research.google.com/assets/colab-badge.svg\" alt=\"Open In Colab\"/></a>"
      ]
    },
    {
      "cell_type": "code",
      "execution_count": 95,
      "metadata": {
        "id": "H2pmhYZ6ElEY"
      },
      "outputs": [],
      "source": [
        "import numpy as np\n",
        "import pandas as pd\n",
        "import seaborn as sns"
      ]
    },
    {
      "cell_type": "code",
      "source": [
        "data=pd.read_csv('disaster.csv')\n",
        "data.head()"
      ],
      "metadata": {
        "colab": {
          "base_uri": "https://localhost:8080/",
          "height": 206
        },
        "id": "98DU01AzE3KE",
        "outputId": "c9601271-42f8-4169-80bf-57da0556d95c"
      },
      "execution_count": 106,
      "outputs": [
        {
          "output_type": "execute_result",
          "data": {
            "text/plain": [
              "   id  frame  donate  justify  skeptic\n",
              "0   1      1     5.6     2.95      1.8\n",
              "1   2      1     4.2     2.85      5.2\n",
              "2   3      1     4.2     3.00      3.2\n",
              "3   4      1     4.6     3.30      1.0\n",
              "4   5      1     3.0     5.00      7.6"
            ],
            "text/html": [
              "\n",
              "  <div id=\"df-d3c33777-5dd9-4702-8b09-92e2004d9472\">\n",
              "    <div class=\"colab-df-container\">\n",
              "      <div>\n",
              "<style scoped>\n",
              "    .dataframe tbody tr th:only-of-type {\n",
              "        vertical-align: middle;\n",
              "    }\n",
              "\n",
              "    .dataframe tbody tr th {\n",
              "        vertical-align: top;\n",
              "    }\n",
              "\n",
              "    .dataframe thead th {\n",
              "        text-align: right;\n",
              "    }\n",
              "</style>\n",
              "<table border=\"1\" class=\"dataframe\">\n",
              "  <thead>\n",
              "    <tr style=\"text-align: right;\">\n",
              "      <th></th>\n",
              "      <th>id</th>\n",
              "      <th>frame</th>\n",
              "      <th>donate</th>\n",
              "      <th>justify</th>\n",
              "      <th>skeptic</th>\n",
              "    </tr>\n",
              "  </thead>\n",
              "  <tbody>\n",
              "    <tr>\n",
              "      <th>0</th>\n",
              "      <td>1</td>\n",
              "      <td>1</td>\n",
              "      <td>5.6</td>\n",
              "      <td>2.95</td>\n",
              "      <td>1.8</td>\n",
              "    </tr>\n",
              "    <tr>\n",
              "      <th>1</th>\n",
              "      <td>2</td>\n",
              "      <td>1</td>\n",
              "      <td>4.2</td>\n",
              "      <td>2.85</td>\n",
              "      <td>5.2</td>\n",
              "    </tr>\n",
              "    <tr>\n",
              "      <th>2</th>\n",
              "      <td>3</td>\n",
              "      <td>1</td>\n",
              "      <td>4.2</td>\n",
              "      <td>3.00</td>\n",
              "      <td>3.2</td>\n",
              "    </tr>\n",
              "    <tr>\n",
              "      <th>3</th>\n",
              "      <td>4</td>\n",
              "      <td>1</td>\n",
              "      <td>4.6</td>\n",
              "      <td>3.30</td>\n",
              "      <td>1.0</td>\n",
              "    </tr>\n",
              "    <tr>\n",
              "      <th>4</th>\n",
              "      <td>5</td>\n",
              "      <td>1</td>\n",
              "      <td>3.0</td>\n",
              "      <td>5.00</td>\n",
              "      <td>7.6</td>\n",
              "    </tr>\n",
              "  </tbody>\n",
              "</table>\n",
              "</div>\n",
              "      <button class=\"colab-df-convert\" onclick=\"convertToInteractive('df-d3c33777-5dd9-4702-8b09-92e2004d9472')\"\n",
              "              title=\"Convert this dataframe to an interactive table.\"\n",
              "              style=\"display:none;\">\n",
              "        \n",
              "  <svg xmlns=\"http://www.w3.org/2000/svg\" height=\"24px\"viewBox=\"0 0 24 24\"\n",
              "       width=\"24px\">\n",
              "    <path d=\"M0 0h24v24H0V0z\" fill=\"none\"/>\n",
              "    <path d=\"M18.56 5.44l.94 2.06.94-2.06 2.06-.94-2.06-.94-.94-2.06-.94 2.06-2.06.94zm-11 1L8.5 8.5l.94-2.06 2.06-.94-2.06-.94L8.5 2.5l-.94 2.06-2.06.94zm10 10l.94 2.06.94-2.06 2.06-.94-2.06-.94-.94-2.06-.94 2.06-2.06.94z\"/><path d=\"M17.41 7.96l-1.37-1.37c-.4-.4-.92-.59-1.43-.59-.52 0-1.04.2-1.43.59L10.3 9.45l-7.72 7.72c-.78.78-.78 2.05 0 2.83L4 21.41c.39.39.9.59 1.41.59.51 0 1.02-.2 1.41-.59l7.78-7.78 2.81-2.81c.8-.78.8-2.07 0-2.86zM5.41 20L4 18.59l7.72-7.72 1.47 1.35L5.41 20z\"/>\n",
              "  </svg>\n",
              "      </button>\n",
              "      \n",
              "  <style>\n",
              "    .colab-df-container {\n",
              "      display:flex;\n",
              "      flex-wrap:wrap;\n",
              "      gap: 12px;\n",
              "    }\n",
              "\n",
              "    .colab-df-convert {\n",
              "      background-color: #E8F0FE;\n",
              "      border: none;\n",
              "      border-radius: 50%;\n",
              "      cursor: pointer;\n",
              "      display: none;\n",
              "      fill: #1967D2;\n",
              "      height: 32px;\n",
              "      padding: 0 0 0 0;\n",
              "      width: 32px;\n",
              "    }\n",
              "\n",
              "    .colab-df-convert:hover {\n",
              "      background-color: #E2EBFA;\n",
              "      box-shadow: 0px 1px 2px rgba(60, 64, 67, 0.3), 0px 1px 3px 1px rgba(60, 64, 67, 0.15);\n",
              "      fill: #174EA6;\n",
              "    }\n",
              "\n",
              "    [theme=dark] .colab-df-convert {\n",
              "      background-color: #3B4455;\n",
              "      fill: #D2E3FC;\n",
              "    }\n",
              "\n",
              "    [theme=dark] .colab-df-convert:hover {\n",
              "      background-color: #434B5C;\n",
              "      box-shadow: 0px 1px 3px 1px rgba(0, 0, 0, 0.15);\n",
              "      filter: drop-shadow(0px 1px 2px rgba(0, 0, 0, 0.3));\n",
              "      fill: #FFFFFF;\n",
              "    }\n",
              "  </style>\n",
              "\n",
              "      <script>\n",
              "        const buttonEl =\n",
              "          document.querySelector('#df-d3c33777-5dd9-4702-8b09-92e2004d9472 button.colab-df-convert');\n",
              "        buttonEl.style.display =\n",
              "          google.colab.kernel.accessAllowed ? 'block' : 'none';\n",
              "\n",
              "        async function convertToInteractive(key) {\n",
              "          const element = document.querySelector('#df-d3c33777-5dd9-4702-8b09-92e2004d9472');\n",
              "          const dataTable =\n",
              "            await google.colab.kernel.invokeFunction('convertToInteractive',\n",
              "                                                     [key], {});\n",
              "          if (!dataTable) return;\n",
              "\n",
              "          const docLinkHtml = 'Like what you see? Visit the ' +\n",
              "            '<a target=\"_blank\" href=https://colab.research.google.com/notebooks/data_table.ipynb>data table notebook</a>'\n",
              "            + ' to learn more about interactive tables.';\n",
              "          element.innerHTML = '';\n",
              "          dataTable['output_type'] = 'display_data';\n",
              "          await google.colab.output.renderOutput(dataTable, element);\n",
              "          const docLink = document.createElement('div');\n",
              "          docLink.innerHTML = docLinkHtml;\n",
              "          element.appendChild(docLink);\n",
              "        }\n",
              "      </script>\n",
              "    </div>\n",
              "  </div>\n",
              "  "
            ]
          },
          "metadata": {},
          "execution_count": 106
        }
      ]
    },
    {
      "cell_type": "code",
      "source": [
        "# 독립변수 회의감 삼각퍼지화\n",
        "sk=data['skeptic']\n",
        "skm=sk.mean()\n",
        "sk2=sk-skm\n",
        "x1= sk-0.5\n",
        "x2= sk+0.5\n",
        "xdf=pd.DataFrame({'a':x1,'b':sk,'c':x2})\n",
        "x=xdf.to_numpy()\n",
        "\n"
      ],
      "metadata": {
        "id": "2_akGnqiIiF6"
      },
      "execution_count": 107,
      "outputs": []
    },
    {
      "cell_type": "code",
      "source": [
        "# 종속변수 기부긍정성 삼각퍼지화\n",
        "do=data['donate']\n",
        "dom=do.mean()\n",
        "do2=do-dom\n",
        "y1= do-0.5\n",
        "y2= do+0.5\n",
        "ydf=pd.DataFrame({'a':y1,'b':do,'c':y2})\n",
        "y=ydf.to_numpy()\n"
      ],
      "metadata": {
        "id": "mlED85VjUo2z"
      },
      "execution_count": 108,
      "outputs": []
    },
    {
      "cell_type": "code",
      "source": [
        "# 매개변수 기부정당성 삼각퍼지화\n",
        "ju=data['justify']\n",
        "jum=ju.mean()\n",
        "ju2=ju-jum\n",
        "m1= ju-0.5\n",
        "m2= ju+0.5\n",
        "mdf=pd.DataFrame({'a':m1,'b':ju,'c':m2})\n",
        "m=mdf.to_numpy()\n"
      ],
      "metadata": {
        "id": "tal3iBaNU-en"
      },
      "execution_count": 109,
      "outputs": []
    },
    {
      "cell_type": "code",
      "source": [
        "# 이분형 조절변수 프레임기사 (0,0,0) (1,1,1)로 \n",
        "fr=data['frame']\n",
        "wdf=pd.DataFrame({'a':fr,'b':fr,'c':fr})\n",
        "w=wdf.to_numpy()"
      ],
      "metadata": {
        "id": "c4NZGjgFC-9E"
      },
      "execution_count": 110,
      "outputs": []
    },
    {
      "cell_type": "code",
      "source": [
        "xw= x*w  \n",
        "ones=np.ones(shape=(211,3))\n",
        "def dc(a,b):          # 삼각퍼지 행렬곱 함수\n",
        "  c=a*b\n",
        "  sum=c.sum()\n",
        "  return sum\n",
        "xtx=np.zeros(shape=(4,4))\n",
        "xlist=[ones,x,w,xw]\n",
        "for i in range(0,4):    # 회귀계수 추정을 위한 삼각퍼지 x대치행렬과 x행렬 행렬곱 for문\n",
        "  for j in range(0,4):\n",
        "    xtx[i,j]= dc(xlist[i],xlist[j])\n",
        "xtm=np.zeros(shape=(4,1))\n",
        "for i in range(0,4):    # 회귀계수 추정을 위한 삼각퍼지 x대치행렬과 m행렬 행렬곱 for문\n",
        "  for j in range(0,1):\n",
        "    xtm[i,j]= dc(xlist[i],m)\n",
        "lxtx=np.linalg.inv(xtx)\n",
        "b=lxtx@xtm\n",
        "b  # m= b0+ b1x + b2w + b3xw 의 회귀계수 추정치 w의 추정치가 이상하게 나옴 수정필요."
      ],
      "metadata": {
        "colab": {
          "base_uri": "https://localhost:8080/"
        },
        "id": "cFQy7BzOVLPr",
        "outputId": "41a037cd-9f71-467e-aad7-c25bccba07c6"
      },
      "execution_count": 111,
      "outputs": [
        {
          "output_type": "execute_result",
          "data": {
            "text/plain": [
              "array([[ 2.33570247],\n",
              "       [ 0.13977598],\n",
              "       [-0.53961308],\n",
              "       [ 0.19366822]])"
            ]
          },
          "metadata": {},
          "execution_count": 111
        }
      ]
    },
    {
      "cell_type": "code",
      "source": [
        "xtx2=np.zeros(shape=(5,5))\n",
        "xlist2=[ones,x,w,xw,m]\n",
        "for i in range(0,5):  # 회귀계수 추정을 위한 삼각퍼지 x대치행렬과 x행렬 행렬곱 for문\n",
        "  for j in range(0,5):\n",
        "    xtx2[i,j]= dc(xlist2[i],xlist2[j])\n",
        "xty=np.zeros(shape=(5,1))\n",
        "for i in range(0,5):    # 회귀계수 추정을 위한 삼각퍼지 x대치행렬과 y행렬 행렬곱 for문\n",
        "  for j in range(0,1):\n",
        "    xty[i,j]= dc(xlist2[i],y)\n",
        "lxtx2=np.linalg.inv(xtx2)\n",
        "b2=lxtx2@xty\n",
        "b2  # y= b0+ b1x + b2w + b3xw + b4m 의 회귀계수 추정치  수정필요"
      ],
      "metadata": {
        "colab": {
          "base_uri": "https://localhost:8080/"
        },
        "id": "zKejigiLHP0_",
        "outputId": "e5baf65c-573e-4d33-ef51-86520bc3047a"
      },
      "execution_count": 113,
      "outputs": [
        {
          "output_type": "execute_result",
          "data": {
            "text/plain": [
              "array([[ 6.25887218],\n",
              "       [-0.01295446],\n",
              "       [ 0.33310448],\n",
              "       [-0.0493867 ],\n",
              "       [-0.58949723]])"
            ]
          },
          "metadata": {},
          "execution_count": 113
        }
      ]
    }
  ]
}