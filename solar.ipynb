{
  "nbformat": 4,
  "nbformat_minor": 0,
  "metadata": {
    "colab": {
      "provenance": [],
      "authorship_tag": "ABX9TyOah2C3eUJaywPU7D3UC+yT",
      "include_colab_link": true
    },
    "kernelspec": {
      "name": "python3",
      "display_name": "Python 3"
    },
    "language_info": {
      "name": "python"
    }
  },
  "cells": [
    {
      "cell_type": "markdown",
      "metadata": {
        "id": "view-in-github",
        "colab_type": "text"
      },
      "source": [
        "<a href=\"https://colab.research.google.com/github/KangHyeonGu1/-/blob/main/solar.ipynb\" target=\"_parent\"><img src=\"https://colab.research.google.com/assets/colab-badge.svg\" alt=\"Open In Colab\"/></a>"
      ]
    },
    {
      "cell_type": "code",
      "execution_count": 14,
      "metadata": {
        "colab": {
          "base_uri": "https://localhost:8080/"
        },
        "id": "eCWSAJDVTG-h",
        "outputId": "94c5a23a-9c96-453b-ac63-24216e0f4776"
      },
      "outputs": [
        {
          "output_type": "execute_result",
          "data": {
            "text/plain": [
              "<bound method NDFrame.head of           temp  cloud cover      wind  humidity  barometer  day_power\n",
              "0     0.312052     0.142857  0.234784  0.778769   0.638520   0.058824\n",
              "1     0.369939     0.285714  0.412924  0.725910   0.424439   0.058824\n",
              "2     0.352761     0.571429  0.572187  0.709644   0.296313   0.058824\n",
              "3     0.348520     0.285714  0.334605  0.751113   0.118489   0.029412\n",
              "4     0.348466     0.714286  0.313384  0.735478   0.160241   0.029412\n",
              "...        ...          ...       ...       ...        ...        ...\n",
              "1327  0.263113     0.714286  0.268356  0.786389   0.318577   0.058824\n",
              "1328  0.252461     0.714286  0.105177  0.762446   0.423438   0.117647\n",
              "1329  0.257106     0.142857  0.103314  0.809187   0.474831   0.088235\n",
              "1330  0.326789     0.857143  0.292398  0.759844   0.455705   0.000000\n",
              "1331  0.287142     0.428571  0.232619  0.681145   0.565277   0.176471\n",
              "\n",
              "[1332 rows x 6 columns]>"
            ]
          },
          "metadata": {},
          "execution_count": 14
        }
      ],
      "source": [
        "import pandas as pd\n",
        "import numpy as np\n",
        "data = pd.read_csv(\"solar data.txt\")\n",
        "data.head"
      ]
    },
    {
      "cell_type": "code",
      "source": [
        "# 독립변수 기온 spread설정과 삼각퍼지화\n",
        "te=data['temp']\n",
        "spread= [None] * 1332\n",
        "for i in range(0,1331):\n",
        "  spread[i]= (np.abs(te[i+1]-te[i]))/2\n",
        "spread[1331]=spread[1330]\n",
        "x1= te-spread\n",
        "x2= te+spread\n",
        "xdf=pd.DataFrame({'a':x1,'b':te,'c':x2})\n",
        "x=xdf.to_numpy()\n"
      ],
      "metadata": {
        "id": "fjeqHa-akwPr"
      },
      "execution_count": 73,
      "outputs": []
    },
    {
      "cell_type": "code",
      "source": [
        "# 매개변수 습도 spread설정과 삼각퍼지화. 0-1사이로 정규화 하였기 때문에\n",
        "# 일단 기온과 같이 spread화 했지만 생각할 필요성이 있음. \n",
        "hu=data['humidity']\n",
        "spreadm= [None] * 1332\n",
        "for i in range(0,1331):\n",
        "  spreadm[i]= (np.abs(hu[i+1]-hu[i]))/2\n",
        "spreadm[1331]=spreadm[1330]\n",
        "m1= hu-spreadm\n",
        "m2= hu+spreadm\n",
        "mdf=pd.DataFrame({'a':m1,'b':hu,'c':m2})\n",
        "m=mdf.to_numpy()"
      ],
      "metadata": {
        "colab": {
          "base_uri": "https://localhost:8080/"
        },
        "id": "yd9FmNnBo77r",
        "outputId": "0c8dccf8-5f44-433c-9370-2dccb468034a"
      },
      "execution_count": 77,
      "outputs": [
        {
          "output_type": "execute_result",
          "data": {
            "text/plain": [
              "array([[0.75233957, 0.77876915, 0.80519874],\n",
              "       [0.71777698, 0.72590998, 0.73404298],\n",
              "       [0.68890934, 0.70964398, 0.73037862],\n",
              "       ...,\n",
              "       [0.78451541, 0.80918683, 0.83385826],\n",
              "       [0.72049462, 0.75984398, 0.79919334],\n",
              "       [0.6417959 , 0.68114526, 0.72049462]])"
            ]
          },
          "metadata": {},
          "execution_count": 77
        }
      ]
    },
    {
      "cell_type": "code",
      "source": [],
      "metadata": {
        "id": "33RCDHklvJ9a"
      },
      "execution_count": null,
      "outputs": []
    }
  ]
}