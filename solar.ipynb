{
  "nbformat": 4,
  "nbformat_minor": 0,
  "metadata": {
    "colab": {
      "provenance": [],
      "authorship_tag": "ABX9TyMcwCnt3wlbokYLIReGmZ1U",
      "include_colab_link": true
    },
    "kernelspec": {
      "name": "python3",
      "display_name": "Python 3"
    },
    "language_info": {
      "name": "python"
    }
  },
  "cells": [
    {
      "cell_type": "markdown",
      "metadata": {
        "id": "view-in-github",
        "colab_type": "text"
      },
      "source": [
        "<a href=\"https://colab.research.google.com/github/KangHyeonGu1/-/blob/main/solar.ipynb\" target=\"_parent\"><img src=\"https://colab.research.google.com/assets/colab-badge.svg\" alt=\"Open In Colab\"/></a>"
      ]
    },
    {
      "cell_type": "code",
      "execution_count": 2,
      "metadata": {
        "colab": {
          "base_uri": "https://localhost:8080/"
        },
        "id": "eCWSAJDVTG-h",
        "outputId": "e6a75348-ff45-49d9-d2aa-a592da8ff046"
      },
      "outputs": [
        {
          "output_type": "execute_result",
          "data": {
            "text/plain": [
              "<bound method NDFrame.head of           temp  cloud cover      wind  humidity  barometer  day_power\n",
              "0     0.312052     0.142857  0.234784  0.778769   0.638520   0.058824\n",
              "1     0.369939     0.285714  0.412924  0.725910   0.424439   0.058824\n",
              "2     0.352761     0.571429  0.572187  0.709644   0.296313   0.058824\n",
              "3     0.348520     0.285714  0.334605  0.751113   0.118489   0.029412\n",
              "4     0.348466     0.714286  0.313384  0.735478   0.160241   0.029412\n",
              "...        ...          ...       ...       ...        ...        ...\n",
              "1327  0.263113     0.714286  0.268356  0.786389   0.318577   0.058824\n",
              "1328  0.252461     0.714286  0.105177  0.762446   0.423438   0.117647\n",
              "1329  0.257106     0.142857  0.103314  0.809187   0.474831   0.088235\n",
              "1330  0.326789     0.857143  0.292398  0.759844   0.455705   0.000000\n",
              "1331  0.287142     0.428571  0.232619  0.681145   0.565277   0.176471\n",
              "\n",
              "[1332 rows x 6 columns]>"
            ]
          },
          "metadata": {},
          "execution_count": 2
        }
      ],
      "source": [
        "import pandas as pd\n",
        "import numpy as np\n",
        "data = pd.read_csv(\"solar data.txt\")\n",
        "data.head"
      ]
    },
    {
      "cell_type": "code",
      "source": [
        "# 독립변수 기온 spread설정과 삼각퍼지화\n",
        "te=data['temp']\n",
        "spread= [None] * 1332\n",
        "for i in range(0,1331):\n",
        "  spread[i]= (np.abs(te[i+1]-te[i]))/2\n",
        "spread[1331]=spread[1330]\n",
        "x1= te-spread\n",
        "x2= te+spread\n",
        "xdf=pd.DataFrame({'a':x1,'b':te,'c':x2})\n",
        "xa=xdf[xdf['a']< 0]\n",
        "xdf.loc[xa.index,'a']=0\n",
        "x=xdf.to_numpy()\n"
      ],
      "metadata": {
        "id": "fjeqHa-akwPr"
      },
      "execution_count": 3,
      "outputs": []
    },
    {
      "cell_type": "code",
      "source": [
        "# 매개변수 습도 spread설정과 삼각퍼지화. 0-1사이로 정규화 하였기 때문에\n",
        "# 일단 기온과 같이 spread화 했지만 생각할 필요성이 있음. \n",
        "hu=data['humidity']\n",
        "spreadm= [None] * 1332\n",
        "for i in range(0,1331):\n",
        "  spreadm[i]= (np.abs(hu[i+1]-hu[i]))/2\n",
        "spreadm[1331]=spreadm[1330]\n",
        "m1= hu-spreadm\n",
        "m2= hu+spreadm\n",
        "mdf=pd.DataFrame({'a':m1,'b':hu,'c':m2})\n",
        "ma=mdf[mdf['a']< 0]\n",
        "mdf.loc[ma.index,'a']=0\n",
        "m=mdf.to_numpy()"
      ],
      "metadata": {
        "id": "yd9FmNnBo77r"
      },
      "execution_count": 4,
      "outputs": []
    },
    {
      "cell_type": "code",
      "source": [
        "# 종속변수\n",
        "power=data['day_power']\n",
        "ydf=pd.DataFrame({'a':power,'b':power,'c':power})\n",
        "y= ydf.to_numpy()\n"
      ],
      "metadata": {
        "id": "33RCDHklvJ9a"
      },
      "execution_count": 5,
      "outputs": []
    },
    {
      "cell_type": "code",
      "source": [
        "# 조절변수1\n",
        "cl=data['cloud cover']\n",
        "w1= cl-0.5\n",
        "w2= cl+0.5\n",
        "wdf=pd.DataFrame({'a':w1,'b':cl,'c':w2})\n",
        "wa=wdf[wdf['a']< 0]\n",
        "wdf.loc[wa.index,'a']=0\n",
        "w=wdf.to_numpy()\n"
      ],
      "metadata": {
        "id": "STFHOrw87ibd"
      },
      "execution_count": 6,
      "outputs": []
    },
    {
      "cell_type": "code",
      "source": [
        "# 조절변수2\n",
        "wi=data['wind']\n",
        "spreadz= [None] * 1332\n",
        "for i in range(0,1331):\n",
        "  spreadz[i]= (np.abs(wi[i+1]-wi[i]))/2\n",
        "spreadz[1331]=spreadz[1330]\n",
        "z1= wi-spreadz\n",
        "z2= wi+spreadz\n",
        "zdf=pd.DataFrame({'a':z1,'b':wi,'c':z2})\n",
        "za=zdf[zdf['a']< 0]\n",
        "zdf.loc[za.index,'a']=0\n",
        "z=zdf.to_numpy()"
      ],
      "metadata": {
        "id": "-vV8UT7b9EEc"
      },
      "execution_count": 7,
      "outputs": []
    },
    {
      "cell_type": "code",
      "source": [
        "# \n",
        "xw=x*w\n",
        "xz=x*z\n",
        "wz=w*z\n",
        "xwz=x*w*z"
      ],
      "metadata": {
        "id": "PRNX7Fe0LNsA"
      },
      "execution_count": 8,
      "outputs": []
    },
    {
      "cell_type": "code",
      "source": [
        "# m= b0 + b1x + b2w + b3z + b4xw + b5xz + b6wz + b7xwz\n",
        "def dc(a,b): # 삼각퍼지 행렬곱 함수\n",
        "  c=a*b\n",
        "  sum=c.sum()\n",
        "  return sum\n",
        "ones=np.ones(shape=(1332,3))\n",
        "xtx=np.zeros(shape=(8,8))\n",
        "xlist=[ones,x,w,z,xw,xz,wz,xwz]\n",
        "for i in range(0,8):   # 회귀계수 추정을 위한 삼각퍼지 x대치행렬과 x행렬 행렬곱 for문\n",
        "  for j in range(0,8):\n",
        "    xtx[i,j]= dc(xlist[i],xlist[j])\n",
        "xtm=np.zeros(shape=(8,1))   \n",
        "for i in range(0,8):   # 회귀계수 추정을 위한 삼각퍼지 x대치행렬과 y행렬 행렬곱 for문\n",
        "  for j in range(0,1):\n",
        "    xtm[i,j]= dc(xlist[i],m)\n",
        "lxtx=np.linalg.inv(xtx)\n",
        "b=lxtx@xtm\n",
        "b=np.around(b, decimals=4)\n",
        "b"
      ],
      "metadata": {
        "colab": {
          "base_uri": "https://localhost:8080/"
        },
        "id": "DTmaxKbURxdp",
        "outputId": "834867d3-62c4-4c04-8f20-14de3aa020aa"
      },
      "execution_count": 12,
      "outputs": [
        {
          "output_type": "execute_result",
          "data": {
            "text/plain": [
              "array([[ 0.8603],\n",
              "       [-0.6239],\n",
              "       [ 0.1469],\n",
              "       [-0.4784],\n",
              "       [ 0.0088],\n",
              "       [ 1.0042],\n",
              "       [ 0.177 ],\n",
              "       [-0.4559]])"
            ]
          },
          "metadata": {},
          "execution_count": 12
        }
      ]
    },
    {
      "cell_type": "markdown",
      "source": [
        "M= 0.6245 - 0.3944X + 0.1872W -0.0195Z -0.1291XW + 0.6734XZ - 0.1942WZ - 2.2929XWZ (crisp data)\n",
        "\n",
        "M= 0.8603 - 0.6239X + 0.1469W - 0.4784Z + 0.0088XW + 1.0042XZ + 0.177WZ - 0.4559XWZ (삼각퍼지화 data)\n"
      ],
      "metadata": {
        "id": "-jHdFJ76dtOy"
      }
    },
    {
      "cell_type": "code",
      "source": [
        "xtx2=np.zeros(shape=(3,3))\n",
        "xlist2=[ones,x,m]\n",
        "for i in range(0,3):   # 회귀계수 추정을 위한 삼각퍼지 x대치행렬과 x행렬 행렬곱 for문\n",
        "  for j in range(0,3):\n",
        "    xtx2[i,j]= dc(xlist2[i],xlist2[j])\n",
        "xty=np.zeros(shape=(3,1))   \n",
        "for i in range(0,3):   # 회귀계수 추정을 위한 삼각퍼지 x대치행렬과 y행렬 행렬곱 for문\n",
        "  for j in range(0,1):\n",
        "    xty[i,j]= dc(xlist2[i],y)\n",
        "lxtx2=np.linalg.inv(xtx2)\n",
        "b2=lxtx2@xty\n",
        "b2=np.around(b2, decimals=4)\n",
        "b2"
      ],
      "metadata": {
        "colab": {
          "base_uri": "https://localhost:8080/"
        },
        "id": "f7SgnkEFYE2q",
        "outputId": "c095bd7a-b4a4-41d7-b61b-c5824c7df37f"
      },
      "execution_count": 13,
      "outputs": [
        {
          "output_type": "execute_result",
          "data": {
            "text/plain": [
              "array([[ 0.5432],\n",
              "       [ 0.5348],\n",
              "       [-0.7551]])"
            ]
          },
          "metadata": {},
          "execution_count": 13
        }
      ]
    },
    {
      "cell_type": "markdown",
      "source": [
        "Y= 0.8542 + 0.4950X - 0.8307M (crisp data)\n",
        "\n",
        "Y= 0.5432 + 0.5348X - 0.7551M (삼각퍼지화 데이터)"
      ],
      "metadata": {
        "id": "dalEIYesf05I"
      }
    }
  ]
}