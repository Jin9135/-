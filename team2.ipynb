{
  "nbformat": 4,
  "nbformat_minor": 0,
  "metadata": {
    "colab": {
      "provenance": [],
      "authorship_tag": "ABX9TyMB3MRrczNDuoY4Bqf8uJIU",
      "include_colab_link": true
    },
    "kernelspec": {
      "name": "python3",
      "display_name": "Python 3"
    },
    "language_info": {
      "name": "python"
    }
  },
  "cells": [
    {
      "cell_type": "markdown",
      "metadata": {
        "id": "view-in-github",
        "colab_type": "text"
      },
      "source": [
        "<a href=\"https://colab.research.google.com/github/KangHyeonGu1/-/blob/main/team2.ipynb\" target=\"_parent\"><img src=\"https://colab.research.google.com/assets/colab-badge.svg\" alt=\"Open In Colab\"/></a>"
      ]
    },
    {
      "cell_type": "code",
      "execution_count": 33,
      "metadata": {
        "id": "rsJQjHOTWmXF"
      },
      "outputs": [],
      "source": [
        "import numpy as np\n",
        "import pandas as pd\n",
        "import seaborn as sns\n",
        "from statsmodels.formula.api import ols\n",
        "import scipy.stats as stats"
      ]
    },
    {
      "cell_type": "markdown",
      "source": [],
      "metadata": {
        "id": "__V87LEtagCf"
      }
    },
    {
      "cell_type": "code",
      "source": [
        "data=pd.read_csv('teams.csv')\n",
        "data.head()\n",
        "rm = ols(' negtone~ dysfunc', data=data).fit()\n",
        "rm.summary()\n",
        "rm.params"
      ],
      "metadata": {
        "colab": {
          "base_uri": "https://localhost:8080/"
        },
        "id": "LeTqhuAOWwzF",
        "outputId": "4c50225f-868a-4b1b-9d55-29a6ce949f9c"
      },
      "execution_count": 34,
      "outputs": [
        {
          "output_type": "execute_result",
          "data": {
            "text/plain": [
              "Intercept    0.025682\n",
              "dysfunc      0.619753\n",
              "dtype: float64"
            ]
          },
          "metadata": {},
          "execution_count": 34
        }
      ]
    },
    {
      "cell_type": "code",
      "source": [
        "ry = ols(' perform~ dysfunc + negtone', data=data).fit()\n",
        "ry.summary()\n",
        "ry.params"
      ],
      "metadata": {
        "colab": {
          "base_uri": "https://localhost:8080/"
        },
        "id": "8HkiQ7O6Ww-w",
        "outputId": "29ff0f51-cc37-415b-e07b-284f9ba0e5a3"
      },
      "execution_count": 35,
      "outputs": [
        {
          "output_type": "execute_result",
          "data": {
            "text/plain": [
              "Intercept   -0.021764\n",
              "dysfunc      0.441439\n",
              "negtone     -0.534396\n",
              "dtype: float64"
            ]
          },
          "metadata": {},
          "execution_count": 35
        }
      ]
    },
    {
      "cell_type": "code",
      "source": [
        "ones=np.ones(shape=(60,3))\n",
        "def dc(a,b):          \n",
        "  c=a*b\n",
        "  sum=c.sum()\n",
        "  return sum"
      ],
      "metadata": {
        "id": "tmqrVCikJDZF"
      },
      "execution_count": 36,
      "outputs": []
    },
    {
      "cell_type": "code",
      "source": [
        "# 퍼지회구계수 추정을 위한 함수\n",
        "def freg(data):\n",
        "  df=data['dysfunc']\n",
        "  xdf=pd.DataFrame({'a':df-0.05,'b':df,'c':df+0.05})\n",
        "  x=xdf.to_numpy()\n",
        "  net=data['negtone']\n",
        "  mdf=pd.DataFrame({'a':net-0.05,'b':net,'c':net+0.05})\n",
        "  m=mdf.to_numpy()\n",
        "  per=data['perform']\n",
        "  ydf=pd.DataFrame({'a':per-0.05,'b':per,'c':per+0.05})\n",
        "  y=ydf.to_numpy()\n",
        "  xtx=np.zeros(shape=(2,2))\n",
        "  xlist=[ones,x]\n",
        "  for i in range(0,2):    \n",
        "    for j in range(0,2):\n",
        "      xtx[i,j]= dc(xlist[i],xlist[j])\n",
        "  xtm=np.zeros(shape=(2,1))\n",
        "  for i in range(0,2):    \n",
        "    for j in range(0,1):\n",
        "      xtm[i,j]= dc(xlist[i],m)\n",
        "  lxtx=np.linalg.inv(xtx)\n",
        "  b=lxtx@xtm\n",
        "  b=np.around(b, decimals=4)\n",
        "  xtx2=np.zeros(shape=(3,3))\n",
        "  xlist2=[ones,x,m]\n",
        "  for i in range(0,3):    \n",
        "    for j in range(0,3):\n",
        "      xtx2[i,j]= dc(xlist2[i],xlist2[j])\n",
        "  xty=np.zeros(shape=(3,1))\n",
        "  for i in range(0,3):    \n",
        "    for j in range(0,1):\n",
        "      xty[i,j]= dc(xlist2[i],y)\n",
        "  lxtx2=np.linalg.inv(xtx2)\n",
        "  b2=lxtx2@xty\n",
        "  b2=np.around(b2, decimals=4)\n",
        "  b2 \n",
        "  xtx3=np.zeros(shape=(2,2))\n",
        "  xlist3=[ones,x]\n",
        "  for i in range(0,2):    \n",
        "    for j in range(0,2):\n",
        "      xtx3[i,j]= dc(xlist3[i],xlist3[j])\n",
        "  xty3=np.zeros(shape=(2,1))\n",
        "  for i in range(0,2):    \n",
        "    for j in range(0,1):\n",
        "      xty3[i,j]= dc(xlist3[i],y)\n",
        "  lxtx3=np.linalg.inv(xtx3)\n",
        "  b3=lxtx3@xty3\n",
        "  b3=np.around(b3, decimals=4)\n",
        "  b3 \n",
        "  return b, b2, b3\n"
      ],
      "metadata": {
        "id": "lpFS7mpJWxTu"
      },
      "execution_count": 37,
      "outputs": []
    },
    {
      "cell_type": "code",
      "source": [
        "para=freg(data)\n",
        "para"
      ],
      "metadata": {
        "id": "Wc5FD4YwMLsi",
        "colab": {
          "base_uri": "https://localhost:8080/"
        },
        "outputId": "93b5f582-2938-43cf-a66b-98f367143ea4"
      },
      "execution_count": 39,
      "outputs": [
        {
          "output_type": "execute_result",
          "data": {
            "text/plain": [
              "(array([[0.0255],\n",
              "        [0.6244]]), array([[-0.0223],\n",
              "        [ 0.4527],\n",
              "        [-0.5313]]), array([[-0.0359],\n",
              "        [ 0.121 ]]))"
            ]
          },
          "metadata": {},
          "execution_count": 39
        }
      ]
    },
    {
      "cell_type": "code",
      "source": [
        "# sd 통계적 추론 \n",
        "df=data['dysfunc']\n",
        "xdf=pd.DataFrame({'a':df-0.05,'b':df,'c':df+0.05})\n",
        "x=xdf.to_numpy()\n",
        "net=data['negtone']\n",
        "mdf=pd.DataFrame({'a':net-0.05,'b':net,'c':net+0.05})\n",
        "m=mdf.to_numpy()\n",
        "per=data['perform']\n",
        "ydf=pd.DataFrame({'a':per-0.05,'b':per,'c':per+0.05})\n",
        "y=ydf.to_numpy()"
      ],
      "metadata": {
        "id": "jkxYkyumesDu"
      },
      "execution_count": 38,
      "outputs": []
    },
    {
      "cell_type": "code",
      "source": [
        "x_m=x.sum(axis=0)/60\n",
        "x_m"
      ],
      "metadata": {
        "colab": {
          "base_uri": "https://localhost:8080/"
        },
        "id": "s2ZXJ8zOfXod",
        "outputId": "8ce5c9a2-b4e1-41d6-8dd4-d2eb238b5220"
      },
      "execution_count": 40,
      "outputs": [
        {
          "output_type": "execute_result",
          "data": {
            "text/plain": [
              "array([-0.01533333,  0.03466667,  0.08466667])"
            ]
          },
          "metadata": {},
          "execution_count": 40
        }
      ]
    },
    {
      "cell_type": "code",
      "source": [
        "#se\n",
        "d2=(x-x_m)**2\n",
        "sd=np.sqrt(d2.sum()/59)\n",
        "sd\n",
        "se=sd/np.sqrt(60)\n",
        "se"
      ],
      "metadata": {
        "colab": {
          "base_uri": "https://localhost:8080/"
        },
        "id": "_MvQM1U1fnJq",
        "outputId": "33e7858b-3040-41d4-a7bd-10953d7d6e2d"
      },
      "execution_count": 41,
      "outputs": [
        {
          "output_type": "execute_result",
          "data": {
            "text/plain": [
              "0.08310547379090802"
            ]
          },
          "metadata": {},
          "execution_count": 41
        }
      ]
    },
    {
      "cell_type": "code",
      "source": [
        "#seb\n",
        "m_m=m.sum(axis=0)/60\n",
        "m_m\n",
        "d2b=(m-m_m)**2\n",
        "sdb=np.sqrt(d2b.sum()/59)\n",
        "sdb\n",
        "seb=sdb/np.sqrt(60)\n",
        "seb"
      ],
      "metadata": {
        "colab": {
          "base_uri": "https://localhost:8080/"
        },
        "id": "JIm3GQLCzbFn",
        "outputId": "d56f14de-40bb-41e6-8782-20f671513e5b"
      },
      "execution_count": 42,
      "outputs": [
        {
          "output_type": "execute_result",
          "data": {
            "text/plain": [
              "0.11748212389563038"
            ]
          },
          "metadata": {},
          "execution_count": 42
        }
      ]
    },
    {
      "cell_type": "code",
      "source": [
        "# seab\n",
        "seab=np.sqrt((para[0][1]**2*seb**2)+ (para[1][2]**2*se**2) + (se**2*seb**2) )\n",
        "seab"
      ],
      "metadata": {
        "colab": {
          "base_uri": "https://localhost:8080/"
        },
        "id": "Ux6Cb1y0i68q",
        "outputId": "44a250f7-10d9-445d-98a8-1e59837ddcc4"
      },
      "execution_count": 43,
      "outputs": [
        {
          "output_type": "execute_result",
          "data": {
            "text/plain": [
              "array([0.08617409])"
            ]
          },
          "metadata": {},
          "execution_count": 43
        }
      ]
    },
    {
      "cell_type": "code",
      "source": [
        "# ab의 95% 신뢰구간과 z값 검정\n",
        "ab=para[0][1]*para[1][2]\n",
        "CI=[ab-1.96*seab,ab+1.96*seab]\n",
        "z=ab/seab\n",
        "p = 2 * (1 - stats.norm.cdf(np.abs(z)))\n",
        "print(CI,p)"
      ],
      "metadata": {
        "colab": {
          "base_uri": "https://localhost:8080/"
        },
        "id": "ISui6PtWjHEF",
        "outputId": "b2c1f809-1554-409b-cb61-1b96e6cdbecf"
      },
      "execution_count": 44,
      "outputs": [
        {
          "output_type": "stream",
          "name": "stdout",
          "text": [
            "[array([-0.50064493]), array([-0.16284251])] [0.00011827]\n"
          ]
        }
      ]
    },
    {
      "cell_type": "code",
      "source": [
        "# c direct 의 95% 신뢰구간과 z값 검정\n",
        "c_prime=para[1][1]\n",
        "CI=[c_prime-1.96*se,c_prime+1.96*se]\n",
        "z=c_prime/se\n",
        "p = 2 * (1 - stats.norm.cdf(np.abs(z)))\n",
        "print(CI,p)"
      ],
      "metadata": {
        "colab": {
          "base_uri": "https://localhost:8080/"
        },
        "id": "M-rhuo6jezUA",
        "outputId": "653463c1-7864-4aa2-fb05-d29b94108473"
      },
      "execution_count": 45,
      "outputs": [
        {
          "output_type": "stream",
          "name": "stdout",
          "text": [
            "[array([0.28981327]), array([0.61558673])] [5.11417149e-08]\n"
          ]
        }
      ]
    },
    {
      "cell_type": "code",
      "source": [
        "# c total 의 95% 신뢰구간과 z값 검정\n",
        "c=para[2][1]\n",
        "CI=[c-1.96*se,c+1.96*se]\n",
        "z=c/se\n",
        "p = 2 * (1 - stats.norm.cdf(np.abs(z)))\n",
        "print(CI,p)"
      ],
      "metadata": {
        "colab": {
          "base_uri": "https://localhost:8080/"
        },
        "id": "8zfrPqXgfdA1",
        "outputId": "b78f0286-72fb-44ba-c1c2-53964779cc78"
      },
      "execution_count": 46,
      "outputs": [
        {
          "output_type": "stream",
          "name": "stdout",
          "text": [
            "[array([-0.04188673]), array([0.28388673])] [0.14539784]\n"
          ]
        }
      ]
    },
    {
      "cell_type": "code",
      "source": [
        "#부트스트랩 표본\n",
        "a_boot=[None]*5000\n",
        "c_boot=[None]*5000\n",
        "b_boot=[None]*5000\n",
        "cprime_boot=[None]*5000\n",
        "for i in range(0,5000):\n",
        "  new_data=data.sample(n=60,replace=True)\n",
        "  parameters=freg(new_data)\n",
        "  a_boot[i]= parameters[0][1]\n",
        "  c_boot[i]= parameters[2][1]\n",
        "  b_boot[i]= parameters[1][2]\n",
        "  cprime_boot[i]= parameters[1][1]"
      ],
      "metadata": {
        "id": "Ga8xAMCLizn-"
      },
      "execution_count": null,
      "outputs": []
    },
    {
      "cell_type": "code",
      "source": [
        "np.save('a_boot',a_boot)\n",
        "np.save('b_boot',b_boot)\n",
        "np.save('c_boot',c_boot)\n",
        "np.save('cprime_boot',cprime_boot)"
      ],
      "metadata": {
        "id": "r57GAlZwgX7H"
      },
      "execution_count": 93,
      "outputs": []
    },
    {
      "cell_type": "code",
      "source": [
        "a_boot=np.load('a_boot.npy')\n",
        "b_boot=np.load('b_boot.npy')\n",
        "c_boot=np.load('c_boot.npy')\n",
        "cprime_boot=np.load('cprime_boot.npy')\n",
        "ab_boot=a_boot*b_boot"
      ],
      "metadata": {
        "id": "N69eDKGhhZge"
      },
      "execution_count": 115,
      "outputs": []
    },
    {
      "cell_type": "code",
      "source": [
        "a_boot= a_boot.tolist()\n",
        "b_boot= b_boot.tolist()\n",
        "c_boot= c_boot.tolist()\n",
        "cprime_boot= cprime_boot.tolist()\n",
        "ab_boot= ab_boot.tolist()"
      ],
      "metadata": {
        "id": "yDAzcciTnwCx"
      },
      "execution_count": 116,
      "outputs": []
    },
    {
      "cell_type": "code",
      "source": [
        "a_boot.sort()\n",
        "b_boot.sort()\n",
        "c_boot.sort()\n",
        "cprime_boot.sort()\n",
        "ab_boot.sort()\n",
        "a_boot=np.array(a_boot)\n",
        "b_boot=np.array(b_boot)\n",
        "c_boot=np.array(c_boot)\n",
        "cprime_boot=np.array(cprime_boot)\n",
        "ab_boot=np.array(ab_boot)"
      ],
      "metadata": {
        "id": "wxznAqzoo47h"
      },
      "execution_count": 117,
      "outputs": []
    },
    {
      "cell_type": "code",
      "source": [
        "sns.distplot(a_boot)"
      ],
      "metadata": {
        "colab": {
          "base_uri": "https://localhost:8080/",
          "height": 339
        },
        "id": "Q2QmYeOimm3V",
        "outputId": "c883d5a7-ce54-4de3-cdff-72a5d7346adf"
      },
      "execution_count": 118,
      "outputs": [
        {
          "output_type": "stream",
          "name": "stderr",
          "text": [
            "/usr/local/lib/python3.8/dist-packages/seaborn/distributions.py:2619: FutureWarning: `distplot` is a deprecated function and will be removed in a future version. Please adapt your code to use either `displot` (a figure-level function with similar flexibility) or `histplot` (an axes-level function for histograms).\n",
            "  warnings.warn(msg, FutureWarning)\n"
          ]
        },
        {
          "output_type": "execute_result",
          "data": {
            "text/plain": [
              "<matplotlib.axes._subplots.AxesSubplot at 0x7f07286db550>"
            ]
          },
          "metadata": {},
          "execution_count": 118
        },
        {
          "output_type": "display_data",
          "data": {
            "text/plain": [
              "<Figure size 432x288 with 1 Axes>"
            ],
            "image/png": "[encoded data removed]"
          },
          "metadata": {
            "needs_background": "light"
          }
        }
      ]
    },
    {
      "cell_type": "code",
      "source": [
        "sns.distplot(b_boot)"
      ],
      "metadata": {
        "colab": {
          "base_uri": "https://localhost:8080/",
          "height": 339
        },
        "id": "7xHCWnpdnFvy",
        "outputId": "1644fe15-b21b-4cd8-80c6-29e39802d7c0"
      },
      "execution_count": 119,
      "outputs": [
        {
          "output_type": "stream",
          "name": "stderr",
          "text": [
            "/usr/local/lib/python3.8/dist-packages/seaborn/distributions.py:2619: FutureWarning: `distplot` is a deprecated function and will be removed in a future version. Please adapt your code to use either `displot` (a figure-level function with similar flexibility) or `histplot` (an axes-level function for histograms).\n",
            "  warnings.warn(msg, FutureWarning)\n"
          ]
        },
        {
          "output_type": "execute_result",
          "data": {
            "text/plain": [
              "<matplotlib.axes._subplots.AxesSubplot at 0x7f0727bbf1c0>"
            ]
          },
          "metadata": {},
          "execution_count": 119
        },
        {
          "output_type": "display_data",
          "data": {
            "text/plain": [
              "<Figure size 432x288 with 1 Axes>"
            ],
            "image/png": "[encoded data removed]"
          },
          "metadata": {
            "needs_background": "light"
          }
        }
      ]
    },
    {
      "cell_type": "code",
      "source": [
        "sns.distplot(cprime_boot)"
      ],
      "metadata": {
        "colab": {
          "base_uri": "https://localhost:8080/",
          "height": 339
        },
        "id": "ZTFazRo7hkYi",
        "outputId": "9eb88b9a-8aba-425c-882f-b1be1a438b5f"
      },
      "execution_count": 120,
      "outputs": [
        {
          "output_type": "stream",
          "name": "stderr",
          "text": [
            "/usr/local/lib/python3.8/dist-packages/seaborn/distributions.py:2619: FutureWarning: `distplot` is a deprecated function and will be removed in a future version. Please adapt your code to use either `displot` (a figure-level function with similar flexibility) or `histplot` (an axes-level function for histograms).\n",
            "  warnings.warn(msg, FutureWarning)\n"
          ]
        },
        {
          "output_type": "execute_result",
          "data": {
            "text/plain": [
              "<matplotlib.axes._subplots.AxesSubplot at 0x7f07275b2c70>"
            ]
          },
          "metadata": {},
          "execution_count": 120
        },
        {
          "output_type": "display_data",
          "data": {
            "text/plain": [
              "<Figure size 432x288 with 1 Axes>"
            ],
            "image/png": "[encoded data removed]"
          },
          "metadata": {
            "needs_background": "light"
          }
        }
      ]
    },
    {
      "cell_type": "code",
      "source": [
        "sns.distplot(ab_boot)"
      ],
      "metadata": {
        "colab": {
          "base_uri": "https://localhost:8080/",
          "height": 339
        },
        "id": "cZB7JcY9DLME",
        "outputId": "69acd627-59e4-4db9-a645-ab3a9b0f4a2b"
      },
      "execution_count": 121,
      "outputs": [
        {
          "output_type": "stream",
          "name": "stderr",
          "text": [
            "/usr/local/lib/python3.8/dist-packages/seaborn/distributions.py:2619: FutureWarning: `distplot` is a deprecated function and will be removed in a future version. Please adapt your code to use either `displot` (a figure-level function with similar flexibility) or `histplot` (an axes-level function for histograms).\n",
            "  warnings.warn(msg, FutureWarning)\n"
          ]
        },
        {
          "output_type": "execute_result",
          "data": {
            "text/plain": [
              "<matplotlib.axes._subplots.AxesSubplot at 0x7f072778c0a0>"
            ]
          },
          "metadata": {},
          "execution_count": 121
        },
        {
          "output_type": "display_data",
          "data": {
            "text/plain": [
              "<Figure size 432x288 with 1 Axes>"
            ],
            "image/png": "[encoded data removed]"
          },
          "metadata": {
            "needs_background": "light"
          }
        }
      ]
    },
    {
      "cell_type": "code",
      "source": [
        "# a에 대한 부트스트랩 신뢰구간\n",
        "a=para[0][1]\n",
        "al=(a_boot[124]+ a_boot[125])/2\n",
        "au=(a_boot[4873]+a_boot[4874])/2\n",
        "acl=[a- al*se,a + au*se]\n",
        "acl\n"
      ],
      "metadata": {
        "id": "tJXKTSjUoJqX",
        "colab": {
          "base_uri": "https://localhost:8080/"
        },
        "outputId": "d7307e73-fe40-42d2-8dc2-a1838d2c53bb"
      },
      "execution_count": 122,
      "outputs": [
        {
          "output_type": "execute_result",
          "data": {
            "text/plain": [
              "[array([0.60432172]), array([0.71628141])]"
            ]
          },
          "metadata": {},
          "execution_count": 122
        }
      ]
    },
    {
      "cell_type": "code",
      "source": [
        "# b에 대한 부트스트랩 신뢰구간\n",
        "b_boot.sort()\n",
        "b=para[1][2]\n",
        "bl=np.abs((b_boot[124]+ b_boot[125])/2)\n",
        "bu=np.abs((b_boot[4873]+b_boot[4874])/2)\n",
        "bcl=[b- bl*seb,b + bu*seb]\n",
        "bcl"
      ],
      "metadata": {
        "colab": {
          "base_uri": "https://localhost:8080/"
        },
        "id": "PTrfRbFww4Vj",
        "outputId": "d21c0210-db7f-4795-f4b4-0281954e4cde"
      },
      "execution_count": 123,
      "outputs": [
        {
          "output_type": "execute_result",
          "data": {
            "text/plain": [
              "[array([-0.61516461]), array([-0.49919214])]"
            ]
          },
          "metadata": {},
          "execution_count": 123
        }
      ]
    },
    {
      "cell_type": "code",
      "source": [
        "# 간접효과 ab에 대한 부트스트랩 신뢰구간\n",
        "ab_boot.sort()\n",
        "ab= a*b\n",
        "abl=np.abs((ab_boot[124]+ ab_boot[125])/2)\n",
        "abu=np.abs((ab_boot[4873]+ab_boot[4874])/2)\n",
        "abcl=[ab- abl*seb,ab + abu*seb]\n",
        "abcl"
      ],
      "metadata": {
        "colab": {
          "base_uri": "https://localhost:8080/"
        },
        "id": "Q5Vz6l-mzv2p",
        "outputId": "d0e65518-42d9-42e8-a004-a533473454df"
      },
      "execution_count": 124,
      "outputs": [
        {
          "output_type": "execute_result",
          "data": {
            "text/plain": [
              "[array([-0.4057423]), array([-0.31983928])]"
            ]
          },
          "metadata": {},
          "execution_count": 124
        }
      ]
    },
    {
      "cell_type": "code",
      "source": [
        "# cprime에 대한 부트스트랩 신뢰구간\n",
        "cprime_boot.sort()\n",
        "cp=para[1][1]\n",
        "cpl=np.abs((cprime_boot[124]+ cprime_boot[125])/2)\n",
        "cpu=np.abs((cprime_boot[4873]+cprime_boot[4874])/2)\n",
        "cpcl=[cp- cpl*se,cp + cpu*se]\n",
        "cpcl"
      ],
      "metadata": {
        "colab": {
          "base_uri": "https://localhost:8080/"
        },
        "id": "UjQ0H_cJhyM8",
        "outputId": "d5208b0f-e050-4911-d8f7-441ed4834853"
      },
      "execution_count": 131,
      "outputs": [
        {
          "output_type": "execute_result",
          "data": {
            "text/plain": [
              "[array([0.45102127]), array([0.51770095])]"
            ]
          },
          "metadata": {},
          "execution_count": 131
        }
      ]
    },
    {
      "cell_type": "code",
      "source": [
        "# c에 대한 부트스트랩 신뢰구간\n",
        "c_boot.sort()\n",
        "c=para[2][1]\n",
        "cpl=np.abs((cprime_boot[124]+ cprime_boot[125])/2)\n",
        "cpu=np.abs((cprime_boot[4873]+cprime_boot[4874])/2)\n",
        "cpcl=[cp- cpl*se,cp + cpu*se]\n",
        "cpcl"
      ],
      "metadata": {
        "colab": {
          "base_uri": "https://localhost:8080/"
        },
        "id": "nYS3GhdCrAkn",
        "outputId": "2e4992f5-43e8-4786-e33b-2e745618fa68"
      },
      "execution_count": 132,
      "outputs": [
        {
          "output_type": "execute_result",
          "data": {
            "text/plain": [
              "[array([0.45102127]), array([0.51770095])]"
            ]
          },
          "metadata": {},
          "execution_count": 132
        }
      ]
    }
  ]
}