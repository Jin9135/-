{
  "nbformat": 4,
  "nbformat_minor": 0,
  "metadata": {
    "colab": {
      "provenance": [],
      "authorship_tag": "ABX9TyPKCBBezZk+l4lsj0r7fms9",
      "include_colab_link": true
    },
    "kernelspec": {
      "name": "python3",
      "display_name": "Python 3"
    },
    "language_info": {
      "name": "python"
    }
  },
  "cells": [
    {
      "cell_type": "markdown",
      "metadata": {
        "id": "view-in-github",
        "colab_type": "text"
      },
      "source": [
        "<a href=\"https://colab.research.google.com/github/KangHyeonGu1/-/blob/main/team2.ipynb\" target=\"_parent\"><img src=\"https://colab.research.google.com/assets/colab-badge.svg\" alt=\"Open In Colab\"/></a>"
      ]
    },
    {
      "cell_type": "code",
      "execution_count": 22,
      "metadata": {
        "id": "rsJQjHOTWmXF"
      },
      "outputs": [],
      "source": [
        "import numpy as np\n",
        "import pandas as pd\n",
        "import seaborn as sns\n",
        "from statsmodels.formula.api import ols\n",
        "import scipy.stats as stats"
      ]
    },
    {
      "cell_type": "code",
      "source": [
        "data=pd.read_csv('teams.csv')\n",
        "data.head()\n",
        "rm = ols(' negtone~ dysfunc', data=data).fit()\n",
        "rm.summary()\n",
        "rm.params"
      ],
      "metadata": {
        "colab": {
          "base_uri": "https://localhost:8080/"
        },
        "id": "LeTqhuAOWwzF",
        "outputId": "a6a8efa4-12de-4423-c308-e90966a45fcb"
      },
      "execution_count": 2,
      "outputs": [
        {
          "output_type": "execute_result",
          "data": {
            "text/plain": [
              "Intercept    0.025682\n",
              "dysfunc      0.619753\n",
              "dtype: float64"
            ]
          },
          "metadata": {},
          "execution_count": 2
        }
      ]
    },
    {
      "cell_type": "code",
      "source": [
        "ry = ols(' perform~ dysfunc + negtone', data=data).fit()\n",
        "ry.summary()\n",
        "ry.params"
      ],
      "metadata": {
        "colab": {
          "base_uri": "https://localhost:8080/"
        },
        "id": "8HkiQ7O6Ww-w",
        "outputId": "27350c97-1d91-43df-edab-99ea300b3ccb"
      },
      "execution_count": 3,
      "outputs": [
        {
          "output_type": "execute_result",
          "data": {
            "text/plain": [
              "Intercept   -0.021764\n",
              "dysfunc      0.441439\n",
              "negtone     -0.534396\n",
              "dtype: float64"
            ]
          },
          "metadata": {},
          "execution_count": 3
        }
      ]
    },
    {
      "cell_type": "code",
      "source": [
        "ones=np.ones(shape=(60,3))\n",
        "def dc(a,b):          \n",
        "  c=a*b\n",
        "  sum=c.sum()\n",
        "  return sum"
      ],
      "metadata": {
        "id": "tmqrVCikJDZF"
      },
      "execution_count": 4,
      "outputs": []
    },
    {
      "cell_type": "code",
      "source": [
        "def freg(data):\n",
        "  df=data['dysfunc']\n",
        "  xdf=pd.DataFrame({'a':df-0.05,'b':df,'c':df+0.05})\n",
        "  x=xdf.to_numpy()\n",
        "  net=data['negtone']\n",
        "  mdf=pd.DataFrame({'a':net-0.05,'b':net,'c':net+0.05})\n",
        "  m=mdf.to_numpy()\n",
        "  per=data['perform']\n",
        "  ydf=pd.DataFrame({'a':per-0.05,'b':per,'c':per+0.05})\n",
        "  y=ydf.to_numpy()\n",
        "  xtx=np.zeros(shape=(2,2))\n",
        "  xlist=[ones,x]\n",
        "  for i in range(0,2):    \n",
        "    for j in range(0,2):\n",
        "      xtx[i,j]= dc(xlist[i],xlist[j])\n",
        "  xtm=np.zeros(shape=(2,1))\n",
        "  for i in range(0,2):    \n",
        "    for j in range(0,1):\n",
        "      xtm[i,j]= dc(xlist[i],m)\n",
        "  lxtx=np.linalg.inv(xtx)\n",
        "  b=lxtx@xtm\n",
        "  b=np.around(b, decimals=4)\n",
        "  xtx2=np.zeros(shape=(3,3))\n",
        "  xlist2=[ones,x,m]\n",
        "  for i in range(0,3):    \n",
        "    for j in range(0,3):\n",
        "      xtx2[i,j]= dc(xlist2[i],xlist2[j])\n",
        "  xty=np.zeros(shape=(3,1))\n",
        "  for i in range(0,3):    \n",
        "    for j in range(0,1):\n",
        "      xty[i,j]= dc(xlist2[i],y)\n",
        "  lxtx2=np.linalg.inv(xtx2)\n",
        "  b2=lxtx2@xty\n",
        "  b2=np.around(b2, decimals=4)\n",
        "  b2 \n",
        "  return b, b2\n"
      ],
      "metadata": {
        "id": "lpFS7mpJWxTu"
      },
      "execution_count": 5,
      "outputs": []
    },
    {
      "cell_type": "code",
      "source": [
        "para=freg(data)"
      ],
      "metadata": {
        "id": "Wc5FD4YwMLsi"
      },
      "execution_count": 12,
      "outputs": []
    },
    {
      "cell_type": "code",
      "source": [
        "# sd 통계적 추론 \n",
        "df=data['dysfunc']\n",
        "xdf=pd.DataFrame({'a':df-0.05,'b':df,'c':df+0.05})\n",
        "x=xdf.to_numpy()\n",
        "net=data['negtone']\n",
        "mdf=pd.DataFrame({'a':net-0.05,'b':net,'c':net+0.05})\n",
        "m=mdf.to_numpy()\n",
        "per=data['perform']\n",
        "ydf=pd.DataFrame({'a':per-0.05,'b':per,'c':per+0.05})\n",
        "y=ydf.to_numpy()"
      ],
      "metadata": {
        "id": "jkxYkyumesDu"
      },
      "execution_count": 8,
      "outputs": []
    },
    {
      "cell_type": "code",
      "source": [
        "x_m=x.sum(axis=0)/60\n",
        "x_m"
      ],
      "metadata": {
        "colab": {
          "base_uri": "https://localhost:8080/"
        },
        "id": "s2ZXJ8zOfXod",
        "outputId": "5eceb701-69c5-466c-b0c1-18430b8af908"
      },
      "execution_count": 9,
      "outputs": [
        {
          "output_type": "execute_result",
          "data": {
            "text/plain": [
              "array([-0.01533333,  0.03466667,  0.08466667])"
            ]
          },
          "metadata": {},
          "execution_count": 9
        }
      ]
    },
    {
      "cell_type": "code",
      "source": [
        "d2=(x-x_m)**2\n",
        "sd=np.sqrt(d2.sum()/59)\n",
        "sd\n",
        "se=sd/np.sqrt(60)\n",
        "se"
      ],
      "metadata": {
        "colab": {
          "base_uri": "https://localhost:8080/"
        },
        "id": "_MvQM1U1fnJq",
        "outputId": "25cd958e-257b-4f36-c15b-7a01e828855b"
      },
      "execution_count": 10,
      "outputs": [
        {
          "output_type": "execute_result",
          "data": {
            "text/plain": [
              "0.08310547379090802"
            ]
          },
          "metadata": {},
          "execution_count": 10
        }
      ]
    },
    {
      "cell_type": "code",
      "source": [
        "m_m=m.sum(axis=0)/60\n",
        "m_m\n",
        "d2b=(m-m_m)**2\n",
        "sdb=np.sqrt(d2b.sum()/59)\n",
        "sdb\n",
        "seb=sdb/np.sqrt(60)\n",
        "seb"
      ],
      "metadata": {
        "colab": {
          "base_uri": "https://localhost:8080/"
        },
        "id": "JIm3GQLCzbFn",
        "outputId": "d9058fdb-72d8-4827-e676-b733c9ccb22a"
      },
      "execution_count": 11,
      "outputs": [
        {
          "output_type": "execute_result",
          "data": {
            "text/plain": [
              "0.11748212389563038"
            ]
          },
          "metadata": {},
          "execution_count": 11
        }
      ]
    },
    {
      "cell_type": "code",
      "source": [
        "# seab\n",
        "seab=np.sqrt((para[0][1]**2*seb**2)+ (para[1][2]**2*se**2) + (se**2*seb**2) )\n",
        "seab"
      ],
      "metadata": {
        "colab": {
          "base_uri": "https://localhost:8080/"
        },
        "id": "Ux6Cb1y0i68q",
        "outputId": "9d514504-752c-4c93-dfc1-8a70a6870434"
      },
      "execution_count": 15,
      "outputs": [
        {
          "output_type": "execute_result",
          "data": {
            "text/plain": [
              "array([0.08617409])"
            ]
          },
          "metadata": {},
          "execution_count": 15
        }
      ]
    },
    {
      "cell_type": "code",
      "source": [
        "# ab의 95% 신뢰구간과 z값 검정\n",
        "ab=para[0][1]*para[1][2]\n",
        "CI=[ab-1.96*seab,ab+1.96*seab]\n",
        "z=ab/seab\n",
        "p = 2 * (1 - stats.norm.cdf(np.abs(z)))\n",
        "print(CI,p)"
      ],
      "metadata": {
        "colab": {
          "base_uri": "https://localhost:8080/"
        },
        "id": "ISui6PtWjHEF",
        "outputId": "a5465e87-eef4-423b-fee1-4d0c83d21050"
      },
      "execution_count": 27,
      "outputs": [
        {
          "output_type": "stream",
          "name": "stdout",
          "text": [
            "[array([-0.50064493]), array([-0.16284251])] [0.00011827]\n"
          ]
        }
      ]
    },
    {
      "cell_type": "code",
      "source": [
        "#부트스트랩 표본\n",
        "a=[None]*5000\n",
        "c=[None]*5000\n",
        "b=[None]*5000\n",
        "for i in range(0,5000):\n",
        "  new_data=data.sample(n=60,replace=True)\n",
        "  parameters=freg(new_data)\n",
        "  a[i]= parameters[0][1]\n",
        "  c[i]= parameters[1][1]\n",
        "  b[i]= parameters[1][2]"
      ],
      "metadata": {
        "id": "Ga8xAMCLizn-"
      },
      "execution_count": 28,
      "outputs": []
    },
    {
      "cell_type": "code",
      "source": [
        "para"
      ],
      "metadata": {
        "colab": {
          "base_uri": "https://localhost:8080/"
        },
        "id": "L4oQYJfcnBeP",
        "outputId": "54f796d7-a73f-42a4-8be4-cf5a0b61573c"
      },
      "execution_count": 31,
      "outputs": [
        {
          "output_type": "execute_result",
          "data": {
            "text/plain": [
              "(array([[0.0255],\n",
              "        [0.6244]]), array([[-0.0223],\n",
              "        [ 0.4527],\n",
              "        [-0.5313]]))"
            ]
          },
          "metadata": {},
          "execution_count": 31
        }
      ]
    },
    {
      "cell_type": "code",
      "source": [
        "sns.distplot(a)"
      ],
      "metadata": {
        "colab": {
          "base_uri": "https://localhost:8080/",
          "height": 339
        },
        "id": "Q2QmYeOimm3V",
        "outputId": "5c7ec7d2-ec89-411c-fb31-63575d243b60"
      },
      "execution_count": 30,
      "outputs": [
        {
          "output_type": "stream",
          "name": "stderr",
          "text": [
            "/usr/local/lib/python3.8/dist-packages/seaborn/distributions.py:2619: FutureWarning: `distplot` is a deprecated function and will be removed in a future version. Please adapt your code to use either `displot` (a figure-level function with similar flexibility) or `histplot` (an axes-level function for histograms).\n",
            "  warnings.warn(msg, FutureWarning)\n"
          ]
        },
        {
          "output_type": "execute_result",
          "data": {
            "text/plain": [
              "<matplotlib.axes._subplots.AxesSubplot at 0x7f04a55c7f70>"
            ]
          },
          "metadata": {},
          "execution_count": 30
        },
        {
          "output_type": "display_data",
          "data": {
            "text/plain": [
              "<Figure size 432x288 with 1 Axes>"
            ],
            "image/png": "[encoded data removed]"
          },
          "metadata": {
            "needs_background": "light"
          }
        }
      ]
    },
    {
      "cell_type": "code",
      "source": [
        "sns.distplot(b)"
      ],
      "metadata": {
        "colab": {
          "base_uri": "https://localhost:8080/",
          "height": 339
        },
        "id": "7xHCWnpdnFvy",
        "outputId": "f30df13f-1b9e-49f9-9ec4-4b5667a3d67b"
      },
      "execution_count": 32,
      "outputs": [
        {
          "output_type": "stream",
          "name": "stderr",
          "text": [
            "/usr/local/lib/python3.8/dist-packages/seaborn/distributions.py:2619: FutureWarning: `distplot` is a deprecated function and will be removed in a future version. Please adapt your code to use either `displot` (a figure-level function with similar flexibility) or `histplot` (an axes-level function for histograms).\n",
            "  warnings.warn(msg, FutureWarning)\n"
          ]
        },
        {
          "output_type": "execute_result",
          "data": {
            "text/plain": [
              "<matplotlib.axes._subplots.AxesSubplot at 0x7f04a55c78b0>"
            ]
          },
          "metadata": {},
          "execution_count": 32
        },
        {
          "output_type": "display_data",
          "data": {
            "text/plain": [
              "<Figure size 432x288 with 1 Axes>"
            ],
            "image/png": "[encoded data removed]"
          },
          "metadata": {
            "needs_background": "light"
          }
        }
      ]
    }
  ]
}