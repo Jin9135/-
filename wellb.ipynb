{
  "nbformat": 4,
  "nbformat_minor": 0,
  "metadata": {
    "colab": {
      "provenance": [],
      "authorship_tag": "ABX9TyM4KAKOwCjkjtZYronpis41",
      "include_colab_link": true
    },
    "kernelspec": {
      "name": "python3",
      "display_name": "Python 3"
    },
    "language_info": {
      "name": "python"
    }
  },
  "cells": [
    {
      "cell_type": "markdown",
      "metadata": {
        "id": "view-in-github",
        "colab_type": "text"
      },
      "source": [
        "<a href=\"https://colab.research.google.com/github/KangHyeonGu1/-/blob/main/wellb.ipynb\" target=\"_parent\"><img src=\"https://colab.research.google.com/assets/colab-badge.svg\" alt=\"Open In Colab\"/></a>"
      ]
    },
    {
      "cell_type": "code",
      "execution_count": 1,
      "metadata": {
        "id": "WVLwgbvUnPI8"
      },
      "outputs": [],
      "source": [
        "import numpy as np\n",
        "import pandas as pd\n",
        "import seaborn as sns"
      ]
    },
    {
      "cell_type": "code",
      "source": [
        "data2=pd.read_csv('Wellbeing_and_lifestyle_data_Kaggle.csv')\n",
        "data=pd.DataFrame({'supporting':data2['SUPPORTING_OTHERS'],'donation':data2['DONATION'],'personal_awards':data2['PERSONAL_AWARDS'],\n",
        "                   'wlbs':data2['WORK_LIFE_BALANCE_SCORE']})\n",
        "data.head\n"
      ],
      "metadata": {
        "colab": {
          "base_uri": "https://localhost:8080/"
        },
        "id": "sQNabo_unb8G",
        "outputId": "78b43394-b21c-41c6-c88e-3d74985aec16"
      },
      "execution_count": 3,
      "outputs": [
        {
          "output_type": "execute_result",
          "data": {
            "text/plain": [
              "<bound method NDFrame.head of        supporting  donation  personal_awards   wlbs\n",
              "0               0         0                4  609.5\n",
              "1               8         2                3  655.6\n",
              "2               4         2                4  631.6\n",
              "3              10         5                5  622.7\n",
              "4              10         4                8  663.9\n",
              "...           ...       ...              ...    ...\n",
              "15967           0         4                5  644.5\n",
              "15968           7         3               10  714.9\n",
              "15969          10         5               10  716.6\n",
              "15970           2         2                1  682.0\n",
              "15971          10         1                1  651.4\n",
              "\n",
              "[15972 rows x 4 columns]>"
            ]
          },
          "metadata": {},
          "execution_count": 3
        }
      ]
    },
    {
      "cell_type": "code",
      "source": [
        "# 독립변수 supporting 삼각퍼지화\n",
        "su=data['supporting']\n",
        "x1= su-0.5\n",
        "x2= su+0.5\n",
        "xdf=pd.DataFrame({'a':x1,'b':su,'c':x2})\n",
        "xa=xdf[xdf['a']< 0]\n",
        "xdf.loc[xa.index,'a']=0\n",
        "x=xdf.to_numpy()"
      ],
      "metadata": {
        "id": "5klr-YLPrl2X"
      },
      "execution_count": 7,
      "outputs": []
    },
    {
      "cell_type": "code",
      "source": [
        "# 첫번째 매개변수 donation 삼각퍼지화\n",
        "do=data['donation']\n",
        "ma= do-0.25\n",
        "mb= do+0.25\n",
        "mdf=pd.DataFrame({'a':ma,'b':do,'c':mb})\n",
        "ma=mdf[mdf['a']< 0]\n",
        "mdf.loc[ma.index,'a']=0\n",
        "m1=mdf.to_numpy()\n"
      ],
      "metadata": {
        "id": "EnyVuLWjskYk"
      },
      "execution_count": 8,
      "outputs": []
    },
    {
      "cell_type": "code",
      "source": [
        "# 두번째 매개변수 personal_awards 삼각퍼지화\n",
        "pa=data['personal_awards']\n",
        "ma2= pa-0.5\n",
        "mb2= pa+0.5\n",
        "m2df=pd.DataFrame({'a':ma2,'b':pa,'c':mb2})\n",
        "ma2=m2df[m2df['a']< 0]\n",
        "m2df.loc[ma2.index,'a']=0\n",
        "m2=m2df.to_numpy()"
      ],
      "metadata": {
        "id": "QfIUzGnSsklA"
      },
      "execution_count": 9,
      "outputs": []
    },
    {
      "cell_type": "code",
      "source": [
        "# 종속변수 일과 삶의 균형점수 퍼지화 못한다고 생각. \n",
        "wl=data['wlbs']/10\n",
        "\n",
        "ydf=pd.DataFrame({'a':wl,'b':wl,'c':wl})\n",
        "y=ydf.to_numpy()\n"
      ],
      "metadata": {
        "id": "9KLnwqqqtik-"
      },
      "execution_count": 10,
      "outputs": []
    },
    {
      "cell_type": "code",
      "source": [
        "def dc(a,b): # 삼각퍼지 행렬곱 함수\n",
        "  c=a*b\n",
        "  sum=c.sum()\n",
        "  return sum\n",
        "xtx=np.zeros(shape=(2,2))\n",
        "ones=np.ones(shape=(15972,3))\n",
        "# 회귀계수 추정을 위한 삼각퍼지 x대치행렬과 x행렬 행렬곱 \n",
        "xtx[0,0]=dc(ones,ones)\n",
        "xtx[0,1]=dc(ones,x)\n",
        "xtx[1,0] =dc(x,ones) \n",
        "xtx[1,1] =dc(x,x)\n",
        "# m1= b0 + b1x 첫번째 매개변수 회귀계수 추정\n",
        "xtm=np.zeros(shape=(2,1))\n",
        "xtm[0,0]=dc(ones,m1)\n",
        "xtm[1,0]=dc(x,m1)\n",
        "lxtx=np.linalg.inv(xtx)\n",
        "b1=lxtx@xtm\n",
        "dc(ones,x)\n",
        "b1\n",
        "# m2 = b0 +b1x 두번째 매개변수 회귀계수 추정\n",
        "xtm2=np.zeros(shape=(2,1))\n",
        "xtm2[0,0]=dc(ones,m2)\n",
        "xtm2[1,0]=dc(x,m2)\n",
        "lxtx=np.linalg.inv(xtx)\n",
        "b2=lxtx@xtm2\n",
        "print(b1,b2)\n",
        "# 추정결과 교수님 논문에 나온 퍼지 매개분석 결과와 마찬가지로 원래 추정치보다 양으로 더 높게 나옴"
      ],
      "metadata": {
        "colab": {
          "base_uri": "https://localhost:8080/"
        },
        "id": "XWAOv00LuC1g",
        "outputId": "e80f3a1e-11a7-4c98-8c12-0aa17c273239"
      },
      "execution_count": 15,
      "outputs": [
        {
          "output_type": "stream",
          "name": "stdout",
          "text": [
            "[[1.4547009 ]\n",
            " [0.22646111]] [[3.87769265]\n",
            " [0.32707942]]\n"
          ]
        }
      ]
    },
    {
      "cell_type": "code",
      "source": [
        "xtx2=np.zeros(shape=(4,4))\n",
        "xlist=[ones,x,m1,m2]\n",
        "for i in range(0,4):   # 회귀계수 추정을 위한 삼각퍼지 x대치행렬과 x행렬 행렬곱 for문\n",
        "  for j in range(0,4):\n",
        "    xtx2[i,j]= dc(xlist[i],xlist[j])\n",
        "#\n",
        "xty=np.zeros(shape=(4,1))\n",
        "for i in range(0,4):   # 회귀계수 추정을 위한 삼각퍼지 x대치행렬과 y행렬 행렬곱 for문\n",
        "  for j in range(0,1):\n",
        "    xty[i,j]= dc(xlist[i],y)\n",
        "lxtx2=np.linalg.inv(xtx2)\n",
        "bb=lxtx2@xty\n",
        "bb\n",
        "# 추정결과 일반 추정보다 조금 낮게 나옴. spread보완할 필요가 있음. spread 수정 생각하기"
      ],
      "metadata": {
        "colab": {
          "base_uri": "https://localhost:8080/"
        },
        "id": "xrmMayGa0NQh",
        "outputId": "8d612ce7-9430-4ba4-bd40-ff49eb8d8683"
      },
      "execution_count": 13,
      "outputs": [
        {
          "output_type": "execute_result",
          "data": {
            "text/plain": [
              "array([[59.85411709],\n",
              "       [ 0.47709063],\n",
              "       [ 0.55523871],\n",
              "       [ 0.45877023]])"
            ]
          },
          "metadata": {},
          "execution_count": 13
        }
      ]
    }
  ]
}