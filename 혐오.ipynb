{
  "nbformat": 4,
  "nbformat_minor": 0,
  "metadata": {
    "colab": {
      "provenance": [],
      "authorship_tag": "ABX9TyO4gZNiAfq2oDmnIPmS05MX",
      "include_colab_link": true
    },
    "kernelspec": {
      "name": "python3",
      "display_name": "Python 3"
    },
    "language_info": {
      "name": "python"
    }
  },
  "cells": [
    {
      "cell_type": "markdown",
      "metadata": {
        "id": "view-in-github",
        "colab_type": "text"
      },
      "source": [
        "<a href=\"https://colab.research.google.com/github/KangHyeonGu1/-/blob/main/%ED%98%90%EC%98%A4.ipynb\" target=\"_parent\"><img src=\"https://colab.research.google.com/assets/colab-badge.svg\" alt=\"Open In Colab\"/></a>"
      ]
    },
    {
      "cell_type": "code",
      "execution_count": 1,
      "metadata": {
        "id": "9_gs-NcPo875"
      },
      "outputs": [],
      "source": [
        "import numpy as np\n",
        "import pandas as pd\n",
        "from statsmodels.formula.api import ols\n",
        "import scipy.stats as stats\n",
        "import seaborn as sns"
      ]
    },
    {
      "cell_type": "code",
      "source": [
        "data=pd.read_csv('혐오.csv')\n",
        "data.head"
      ],
      "metadata": {
        "colab": {
          "base_uri": "https://localhost:8080/"
        },
        "id": "YsYUXq_t-3Dv",
        "outputId": "6445a904-6260-4cc4-8c4e-7f37921f7885"
      },
      "execution_count": 2,
      "outputs": [
        {
          "output_type": "execute_result",
          "data": {
            "text/plain": [
              "<bound method NDFrame.head of       Unnamed: 0       q1s       q2s       q3s       q4s  q5s    q6s\n",
              "0              1  2.615385  3.111111  2.090909  3.000000  2.8  1.000\n",
              "1              2  2.000000  2.555556  1.727273  3.714286  4.0  3.625\n",
              "2              3  2.615385  3.000000  2.090909  3.571429  1.0  1.875\n",
              "3              4  2.846154  3.111111  2.727273  4.000000  1.9  1.000\n",
              "4              5  2.307692  2.000000  2.181818  4.000000  2.9  1.000\n",
              "...          ...       ...       ...       ...       ...  ...    ...\n",
              "5404        5897  1.000000  5.000000  4.909091  5.000000  1.0  3.000\n",
              "5405        5898  1.076923  1.222222  1.000000  3.571429  1.0  1.000\n",
              "5406        5910  1.000000  4.222222  3.090909  4.285714  2.2  1.000\n",
              "5407        5912  3.153846  2.333333  4.545455  4.000000  3.5  1.500\n",
              "5408        5913  2.461538  2.000000  2.000000  3.000000  1.2  2.875\n",
              "\n",
              "[5409 rows x 7 columns]>"
            ]
          },
          "metadata": {},
          "execution_count": 2
        }
      ]
    },
    {
      "cell_type": "code",
      "source": [
        "rm = ols(' q2s~ q5s', data=data).fit()\n",
        "rm.summary()\n",
        "rm.params"
      ],
      "metadata": {
        "colab": {
          "base_uri": "https://localhost:8080/"
        },
        "id": "u3NmDwae_A2j",
        "outputId": "6b7da8e1-66b4-4304-fda1-2a23f7d2c30a"
      },
      "execution_count": 3,
      "outputs": [
        {
          "output_type": "execute_result",
          "data": {
            "text/plain": [
              "Intercept    2.331538\n",
              "q5s          0.291793\n",
              "dtype: float64"
            ]
          },
          "metadata": {},
          "execution_count": 3
        }
      ]
    },
    {
      "cell_type": "code",
      "source": [
        "rm = ols(' q3s~ q5s', data=data).fit()\n",
        "rm.summary()\n",
        "rm.params"
      ],
      "metadata": {
        "colab": {
          "base_uri": "https://localhost:8080/"
        },
        "id": "2x_Yy3uU_U6A",
        "outputId": "24bdba4b-fbeb-44cc-cf41-d52523a311b1"
      },
      "execution_count": 4,
      "outputs": [
        {
          "output_type": "execute_result",
          "data": {
            "text/plain": [
              "Intercept    1.889092\n",
              "q5s          0.247065\n",
              "dtype: float64"
            ]
          },
          "metadata": {},
          "execution_count": 4
        }
      ]
    },
    {
      "cell_type": "code",
      "source": [
        "rm = ols(' q4s~ q5s', data=data).fit()\n",
        "rm.summary()\n",
        "rm.params"
      ],
      "metadata": {
        "colab": {
          "base_uri": "https://localhost:8080/"
        },
        "id": "pxfSJ84c_YR-",
        "outputId": "b0dc5d3c-d354-4b5d-bbce-15936ff1d1e6"
      },
      "execution_count": 5,
      "outputs": [
        {
          "output_type": "execute_result",
          "data": {
            "text/plain": [
              "Intercept    3.274848\n",
              "q5s          0.205027\n",
              "dtype: float64"
            ]
          },
          "metadata": {},
          "execution_count": 5
        }
      ]
    },
    {
      "cell_type": "code",
      "source": [
        "rm = ols(' q4s~ q5s + q2s + q3s', data=data).fit()\n",
        "rm.summary()\n",
        "rm.params"
      ],
      "metadata": {
        "colab": {
          "base_uri": "https://localhost:8080/"
        },
        "id": "ELSd_z-fUPRS",
        "outputId": "71a9b1fa-81df-421d-eee9-e97cc79cc2ed"
      },
      "execution_count": 6,
      "outputs": [
        {
          "output_type": "execute_result",
          "data": {
            "text/plain": [
              "Intercept    2.940687\n",
              "q5s          0.162478\n",
              "q2s          0.087876\n",
              "q3s          0.068432\n",
              "dtype: float64"
            ]
          },
          "metadata": {},
          "execution_count": 6
        }
      ]
    },
    {
      "cell_type": "code",
      "source": [
        "ones=np.ones(shape=(5409,3))\n",
        "def dc(a,b):          \n",
        "  c=a*b\n",
        "  sum=c.sum()\n",
        "  return sum"
      ],
      "metadata": {
        "id": "P_ARkgmKS-b8"
      },
      "execution_count": 7,
      "outputs": []
    },
    {
      "cell_type": "code",
      "source": [
        "def freg(data):\n",
        "  xx=data['q5s']\n",
        "  xdf=pd.DataFrame({'xx':xx-0.5,'b':xx,'c':xx+0.5})\n",
        "  x=xdf.to_numpy()\n",
        "  mm1=data['q2s']\n",
        "  m1df=pd.DataFrame({'a':mm1-0.5,'b':mm1,'c':mm1+0.5})\n",
        "  m1=m1df.to_numpy()\n",
        "  mm2=data['q3s']\n",
        "  m2df=pd.DataFrame({'a':mm2-0.5,'b':mm2,'c':mm2+0.5})\n",
        "  m2=m2df.to_numpy()\n",
        "  yy=data['q4s']\n",
        "  ydf=pd.DataFrame({'a':yy-0.5,'b':yy,'c':yy+0.5})\n",
        "  y=ydf.to_numpy()\n",
        "  xtx=np.zeros(shape=(2,2))\n",
        "  xlist=[ones,x]\n",
        "  for i in range(0,2):    \n",
        "    for j in range(0,2):\n",
        "      xtx[i,j]= dc(xlist[i],xlist[j])\n",
        "  xtm1=np.zeros(shape=(2,1))\n",
        "  for i in range(0,2):    \n",
        "    for j in range(0,1):\n",
        "      xtm1[i,j]= dc(xlist[i],m1)\n",
        "  lxtx=np.linalg.inv(xtx)\n",
        "  b1=lxtx@xtm1\n",
        "  b1=np.around(b1, decimals=4)\n",
        "  xtm2=np.zeros(shape=(2,1))\n",
        "  for i in range(0,2):    \n",
        "    for j in range(0,1):\n",
        "      xtm2[i,j]= dc(xlist[i],m2)\n",
        "  b2=lxtx@xtm2\n",
        "  b2=np.around(b2, decimals=4)\n",
        "  xtx3=np.zeros(shape=(4,4))\n",
        "  xlist2=[ones,x,m1,m2]\n",
        "  for i in range(0,4):    \n",
        "    for j in range(0,4):\n",
        "      xtx3[i,j]= dc(xlist2[i],xlist2[j])\n",
        "  xty=np.zeros(shape=(4,1))\n",
        "  for i in range(0,4):    \n",
        "    for j in range(0,1):\n",
        "      xty[i,j]= dc(xlist2[i],y)\n",
        "  lxtx3=np.linalg.inv(xtx3)\n",
        "  b3=lxtx3@xty\n",
        "  b3=np.around(b3, decimals=4)\n",
        "  return b1,b2,b3"
      ],
      "metadata": {
        "id": "AOK_wk-vACXZ"
      },
      "execution_count": 8,
      "outputs": []
    },
    {
      "cell_type": "code",
      "source": [
        "xx=data['q5s']\n",
        "xdf=pd.DataFrame({'xx':xx-0.5,'b':xx,'c':xx+0.5})\n",
        "x=xdf.to_numpy()\n",
        "mm1=data['q2s']\n",
        "m1df=pd.DataFrame({'a':mm1-0.5,'b':mm1,'c':mm1+0.5})\n",
        "m1=m1df.to_numpy()\n",
        "mm2=data['q3s']\n",
        "m2df=pd.DataFrame({'a':mm2-0.5,'b':mm2,'c':mm2+0.5})\n",
        "m2=m2df.to_numpy()\n",
        "yy=data['q4s']\n",
        "ydf=pd.DataFrame({'a':yy-0.5,'b':yy,'c':yy+0.5})\n",
        "y=ydf.to_numpy()"
      ],
      "metadata": {
        "id": "848g1-gQogGh"
      },
      "execution_count": 9,
      "outputs": []
    },
    {
      "cell_type": "code",
      "source": [
        "para=freg(data)\n",
        "para"
      ],
      "metadata": {
        "colab": {
          "base_uri": "https://localhost:8080/"
        },
        "id": "mkznaI9lpF2g",
        "outputId": "986e3cf9-c0d1-4d78-ac7f-164c8ae773e2"
      },
      "execution_count": 10,
      "outputs": [
        {
          "output_type": "execute_result",
          "data": {
            "text/plain": [
              "(array([[2.0929],\n",
              "        [0.3894]]), array([[1.6354],\n",
              "        [0.3509]]), array([[2.5294],\n",
              "        [0.2198],\n",
              "        [0.1275],\n",
              "        [0.1288]]))"
            ]
          },
          "metadata": {},
          "execution_count": 10
        }
      ]
    },
    {
      "cell_type": "code",
      "source": [
        "# sea와 seb\n",
        "x_m=x.sum(axis=0)/5409\n",
        "d2=(x-x_m)**2\n",
        "sd=np.sqrt(d2.sum()/5408)\n",
        "sd\n",
        "sea=sd/np.sqrt(5409)\n",
        "\n",
        "m_m1=m1.sum(axis=0)/5409\n",
        "d2b1=(m1-m_m1)**2\n",
        "sdb1=np.sqrt(d2b1.sum()/5408)\n",
        "sdb1\n",
        "seb1=sdb1/np.sqrt(5409)\n",
        "\n",
        "m_m2=m2.sum(axis=0)/5409\n",
        "d2b2=(m2-m_m2)**2\n",
        "sdb2=np.sqrt(d2b2.sum()/5408)\n",
        "sdb2\n",
        "seb2=sdb2/np.sqrt(5409)\n",
        "seb2\n",
        "print(sea,seb1,seb2)"
      ],
      "metadata": {
        "colab": {
          "base_uri": "https://localhost:8080/"
        },
        "id": "ey6aFPDOoEdv",
        "outputId": "ec89cd05-78f9-4936-a7af-af95bb98c563"
      },
      "execution_count": 11,
      "outputs": [
        {
          "output_type": "stream",
          "name": "stdout",
          "text": [
            "0.024045165469174658 0.024677861029290933 0.02252534598053947\n"
          ]
        }
      ]
    },
    {
      "cell_type": "code",
      "source": [
        "# seab1  seab2\n",
        "seab1=np.sqrt((para[0][1]**2*seb1**2)+ (para[2][2]**2*sea**2) + (sea**2*seb1**2) )\n",
        "seab2=np.sqrt((para[1][1]**2*seb2**2)+ (para[2][3]**2*sea**2) + (sea**2*seb2**2) )\n",
        "print(seab1,seab2)"
      ],
      "metadata": {
        "colab": {
          "base_uri": "https://localhost:8080/"
        },
        "id": "9CWQ2Z8YqCBP",
        "outputId": "84e8c8d4-83c2-44b3-8e04-0a32882a1e09"
      },
      "execution_count": 12,
      "outputs": [
        {
          "output_type": "stream",
          "name": "stdout",
          "text": [
            "[0.01010419] [0.00850649]\n"
          ]
        }
      ]
    },
    {
      "cell_type": "code",
      "source": [
        "# ab1의 95% 신뢰구간과 z값 검정\n",
        "ab1=para[0][1]*para[2][2]\n",
        "CI=[ab1-1.96*seab1,ab1+1.96*seab1]\n",
        "z1=ab1/seab1\n",
        "p1 = 2 * (1 - stats.norm.cdf(np.abs(z1)))\n",
        "print(CI,p1)"
      ],
      "metadata": {
        "colab": {
          "base_uri": "https://localhost:8080/"
        },
        "id": "51FeInWzq1_P",
        "outputId": "2034b44a-3922-4545-edea-5d3848af4239"
      },
      "execution_count": 13,
      "outputs": [
        {
          "output_type": "stream",
          "name": "stdout",
          "text": [
            "[array([0.02984429]), array([0.06945271])] [8.93936136e-07]\n"
          ]
        }
      ]
    },
    {
      "cell_type": "code",
      "source": [
        "# ab2의 95% 신뢰구간과 z값 검정\n",
        "ab2=para[1][1]*para[2][3]\n",
        "CI2=[ab2-1.96*seab2,ab2+1.96*seab2]\n",
        "z2=ab2/seab2\n",
        "p2 = 2 * (1 - stats.norm.cdf(np.abs(z2)))\n",
        "print(CI2,p2)"
      ],
      "metadata": {
        "colab": {
          "base_uri": "https://localhost:8080/"
        },
        "id": "AieomLq8rIPn",
        "outputId": "1344d9fe-3d9b-486a-bec3-61a826bf06c1"
      },
      "execution_count": 14,
      "outputs": [
        {
          "output_type": "stream",
          "name": "stdout",
          "text": [
            "[array([0.0285232]), array([0.06186864])] [1.07769591e-07]\n"
          ]
        }
      ]
    },
    {
      "cell_type": "code",
      "source": [
        "#부트스트랩 표본\n",
        "a1=[None]*5000\n",
        "a2=[None]*5000\n",
        "b1=[None]*5000\n",
        "b2=[None]*5000\n",
        "c=[None]*5000\n",
        "for i in range(0,5000):\n",
        "  new_data=data.sample(n=5409,replace=True)\n",
        "  parameters=freg(new_data)\n",
        "  a1[i]= parameters[0][1]\n",
        "  a2[i]= parameters[1][1]\n",
        "  c[i]= parameters[2][1]\n",
        "  b1[i]= parameters[2][2]\n",
        "  b2[i]= parameters[2][3]\n"
      ],
      "metadata": {
        "id": "wF4vKJl0wTXw"
      },
      "execution_count": 15,
      "outputs": []
    },
    {
      "cell_type": "code",
      "source": [
        "sns.distplot(a1)"
      ],
      "metadata": {
        "colab": {
          "base_uri": "https://localhost:8080/",
          "height": 339
        },
        "id": "r7vp33xIsXqt",
        "outputId": "b10d0f64-f294-417d-aaa9-2c85701592d0"
      },
      "execution_count": 16,
      "outputs": [
        {
          "output_type": "stream",
          "name": "stderr",
          "text": [
            "/usr/local/lib/python3.8/dist-packages/seaborn/distributions.py:2619: FutureWarning: `distplot` is a deprecated function and will be removed in a future version. Please adapt your code to use either `displot` (a figure-level function with similar flexibility) or `histplot` (an axes-level function for histograms).\n",
            "  warnings.warn(msg, FutureWarning)\n"
          ]
        },
        {
          "output_type": "execute_result",
          "data": {
            "text/plain": [
              "<matplotlib.axes._subplots.AxesSubplot at 0x7ff0cabd0f40>"
            ]
          },
          "metadata": {},
          "execution_count": 16
        },
        {
          "output_type": "display_data",
          "data": {
            "text/plain": [
              "<Figure size 432x288 with 1 Axes>"
            ],
            "image/png": "[encoded data removed]"
          },
          "metadata": {
            "needs_background": "light"
          }
        }
      ]
    },
    {
      "cell_type": "code",
      "source": [
        "sns.distplot(a2)"
      ],
      "metadata": {
        "colab": {
          "base_uri": "https://localhost:8080/",
          "height": 343
        },
        "id": "Jh7qxn9ush4k",
        "outputId": "f3b0b769-9ac4-499b-d5d2-e1ca4b2d2e62"
      },
      "execution_count": 17,
      "outputs": [
        {
          "output_type": "stream",
          "name": "stderr",
          "text": [
            "/usr/local/lib/python3.8/dist-packages/seaborn/distributions.py:2619: FutureWarning: `distplot` is a deprecated function and will be removed in a future version. Please adapt your code to use either `displot` (a figure-level function with similar flexibility) or `histplot` (an axes-level function for histograms).\n",
            "  warnings.warn(msg, FutureWarning)\n"
          ]
        },
        {
          "output_type": "execute_result",
          "data": {
            "text/plain": [
              "<matplotlib.axes._subplots.AxesSubplot at 0x7ff0cd460430>"
            ]
          },
          "metadata": {},
          "execution_count": 17
        },
        {
          "output_type": "display_data",
          "data": {
            "text/plain": [
              "<Figure size 432x288 with 1 Axes>"
            ],
            "image/png": "[encoded data removed]"
          },
          "metadata": {
            "needs_background": "light"
          }
        }
      ]
    },
    {
      "cell_type": "code",
      "source": [
        "sns.distplot(b1)"
      ],
      "metadata": {
        "colab": {
          "base_uri": "https://localhost:8080/",
          "height": 339
        },
        "id": "6QYlumlmsiCR",
        "outputId": "cf495fef-1103-4098-affa-2bc70f519a43"
      },
      "execution_count": 18,
      "outputs": [
        {
          "output_type": "stream",
          "name": "stderr",
          "text": [
            "/usr/local/lib/python3.8/dist-packages/seaborn/distributions.py:2619: FutureWarning: `distplot` is a deprecated function and will be removed in a future version. Please adapt your code to use either `displot` (a figure-level function with similar flexibility) or `histplot` (an axes-level function for histograms).\n",
            "  warnings.warn(msg, FutureWarning)\n"
          ]
        },
        {
          "output_type": "execute_result",
          "data": {
            "text/plain": [
              "<matplotlib.axes._subplots.AxesSubplot at 0x7ff0ca6c87f0>"
            ]
          },
          "metadata": {},
          "execution_count": 18
        },
        {
          "output_type": "display_data",
          "data": {
            "text/plain": [
              "<Figure size 432x288 with 1 Axes>"
            ],
            "image/png": "[encoded data removed]"
          },
          "metadata": {
            "needs_background": "light"
          }
        }
      ]
    },
    {
      "cell_type": "code",
      "source": [
        "sns.distplot(b2)"
      ],
      "metadata": {
        "colab": {
          "base_uri": "https://localhost:8080/",
          "height": 339
        },
        "id": "mhF0lG-rsjP4",
        "outputId": "a27939b3-1917-4303-dbac-65fbc9fb2696"
      },
      "execution_count": 19,
      "outputs": [
        {
          "output_type": "stream",
          "name": "stderr",
          "text": [
            "/usr/local/lib/python3.8/dist-packages/seaborn/distributions.py:2619: FutureWarning: `distplot` is a deprecated function and will be removed in a future version. Please adapt your code to use either `displot` (a figure-level function with similar flexibility) or `histplot` (an axes-level function for histograms).\n",
            "  warnings.warn(msg, FutureWarning)\n"
          ]
        },
        {
          "output_type": "execute_result",
          "data": {
            "text/plain": [
              "<matplotlib.axes._subplots.AxesSubplot at 0x7ff0c80dda00>"
            ]
          },
          "metadata": {},
          "execution_count": 19
        },
        {
          "output_type": "display_data",
          "data": {
            "text/plain": [
              "<Figure size 432x288 with 1 Axes>"
            ],
            "image/png": "[encoded data removed]"
          },
          "metadata": {
            "needs_background": "light"
          }
        }
      ]
    },
    {
      "cell_type": "code",
      "source": [
        "a1=np.array(a1)\n",
        "b1=np.array(b1)\n",
        "ab1=a1*b1\n",
        "sns.distplot(ab1)"
      ],
      "metadata": {
        "colab": {
          "base_uri": "https://localhost:8080/",
          "height": 339
        },
        "id": "EttUfTeG_Af_",
        "outputId": "6467f4c6-dacf-4b7a-c561-35722107facc"
      },
      "execution_count": 25,
      "outputs": [
        {
          "output_type": "stream",
          "name": "stderr",
          "text": [
            "/usr/local/lib/python3.8/dist-packages/seaborn/distributions.py:2619: FutureWarning: `distplot` is a deprecated function and will be removed in a future version. Please adapt your code to use either `displot` (a figure-level function with similar flexibility) or `histplot` (an axes-level function for histograms).\n",
            "  warnings.warn(msg, FutureWarning)\n"
          ]
        },
        {
          "output_type": "execute_result",
          "data": {
            "text/plain": [
              "<matplotlib.axes._subplots.AxesSubplot at 0x7ff0c57fd6d0>"
            ]
          },
          "metadata": {},
          "execution_count": 25
        },
        {
          "output_type": "display_data",
          "data": {
            "text/plain": [
              "<Figure size 432x288 with 1 Axes>"
            ],
            "image/png": "[encoded data removed]"
          },
          "metadata": {
            "needs_background": "light"
          }
        }
      ]
    },
    {
      "cell_type": "code",
      "source": [
        "a2=np.array(a2)\n",
        "b2=np.array(b2)\n",
        "ab2=a2*b2\n",
        "sns.distplot(ab2)"
      ],
      "metadata": {
        "colab": {
          "base_uri": "https://localhost:8080/",
          "height": 339
        },
        "id": "ofVzrgZj_tj5",
        "outputId": "2216861b-5b0f-4c1b-a7b1-2c6d596555cf"
      },
      "execution_count": 26,
      "outputs": [
        {
          "output_type": "stream",
          "name": "stderr",
          "text": [
            "/usr/local/lib/python3.8/dist-packages/seaborn/distributions.py:2619: FutureWarning: `distplot` is a deprecated function and will be removed in a future version. Please adapt your code to use either `displot` (a figure-level function with similar flexibility) or `histplot` (an axes-level function for histograms).\n",
            "  warnings.warn(msg, FutureWarning)\n"
          ]
        },
        {
          "output_type": "execute_result",
          "data": {
            "text/plain": [
              "<matplotlib.axes._subplots.AxesSubplot at 0x7ff0c57fd3a0>"
            ]
          },
          "metadata": {},
          "execution_count": 26
        },
        {
          "output_type": "display_data",
          "data": {
            "text/plain": [
              "<Figure size 432x288 with 1 Axes>"
            ],
            "image/png": "[encoded data removed]"
          },
          "metadata": {
            "needs_background": "light"
          }
        }
      ]
    }
  ]
}