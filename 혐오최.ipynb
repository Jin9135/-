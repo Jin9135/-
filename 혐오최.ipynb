{
  "nbformat": 4,
  "nbformat_minor": 0,
  "metadata": {
    "colab": {
      "provenance": [],
      "authorship_tag": "ABX9TyPNjDlssjjFh25Tijmtnc0W",
      "include_colab_link": true
    },
    "kernelspec": {
      "name": "python3",
      "display_name": "Python 3"
    },
    "language_info": {
      "name": "python"
    }
  },
  "cells": [
    {
      "cell_type": "markdown",
      "metadata": {
        "id": "view-in-github",
        "colab_type": "text"
      },
      "source": [
        "<a href=\"https://colab.research.google.com/github/KangHyeonGu1/-/blob/main/%ED%98%90%EC%98%A4%EC%B5%9C.ipynb\" target=\"_parent\"><img src=\"https://colab.research.google.com/assets/colab-badge.svg\" alt=\"Open In Colab\"/></a>"
      ]
    },
    {
      "cell_type": "code",
      "execution_count": 1,
      "metadata": {
        "id": "L94uMYrKzAnT"
      },
      "outputs": [],
      "source": [
        "import numpy as np\n",
        "import pandas as pd\n",
        "from statsmodels.formula.api import ols\n",
        "import scipy.stats as stats\n",
        "import seaborn as sns"
      ]
    },
    {
      "cell_type": "code",
      "source": [
        "data=pd.read_csv('혐오 데이터 분석한 버전 최.csv')\n",
        "data.head"
      ],
      "metadata": {
        "colab": {
          "base_uri": "https://localhost:8080/"
        },
        "id": "L0w5svRSzOz1",
        "outputId": "4d7ea81a-13f7-484b-9abe-922d76a6297c"
      },
      "execution_count": 2,
      "outputs": [
        {
          "output_type": "execute_result",
          "data": {
            "text/plain": [
              "<bound method NDFrame.head of       Unnamed: 0       nsp       hom        cm   my\n",
              "0              1  3.111111  2.090909  3.000000  2.8\n",
              "1              2  2.555556  1.727273  3.714286  3.6\n",
              "2              3  3.000000  2.090909  3.571429  1.8\n",
              "3              4  3.111111  2.727273  4.000000  2.5\n",
              "4              5  2.000000  2.181818  4.000000  3.1\n",
              "...          ...       ...       ...       ...  ...\n",
              "5519        5898  1.222222  1.000000  3.571429  1.8\n",
              "5520        5907  1.000000  1.000000  5.000000  1.8\n",
              "5521        5910  4.222222  3.090909  4.285714  1.8\n",
              "5522        5912  2.333333  4.545455  4.000000  2.9\n",
              "5523        5913  2.000000  2.000000  3.000000  1.6\n",
              "\n",
              "[5524 rows x 5 columns]>"
            ]
          },
          "metadata": {},
          "execution_count": 2
        }
      ]
    },
    {
      "cell_type": "code",
      "source": [
        "rm = ols(' nsp~ my', data=data).fit()\n",
        "rm.summary()\n",
        "rm.params"
      ],
      "metadata": {
        "colab": {
          "base_uri": "https://localhost:8080/"
        },
        "id": "mkULnP6vzO6u",
        "outputId": "5c2d3361-e559-4b50-9e72-437f1b59c03b"
      },
      "execution_count": 3,
      "outputs": [
        {
          "output_type": "execute_result",
          "data": {
            "text/plain": [
              "Intercept    2.072668\n",
              "my           0.368737\n",
              "dtype: float64"
            ]
          },
          "metadata": {},
          "execution_count": 3
        }
      ]
    },
    {
      "cell_type": "code",
      "source": [
        "rm = ols(' hom~ my', data=data).fit()\n",
        "rm.summary()\n",
        "rm.params"
      ],
      "metadata": {
        "colab": {
          "base_uri": "https://localhost:8080/"
        },
        "id": "Dj4xCTgRzPC3",
        "outputId": "4b5378b0-642a-49d9-a618-e97e1d7d7c17"
      },
      "execution_count": 4,
      "outputs": [
        {
          "output_type": "execute_result",
          "data": {
            "text/plain": [
              "Intercept    1.649604\n",
              "my           0.321324\n",
              "dtype: float64"
            ]
          },
          "metadata": {},
          "execution_count": 4
        }
      ]
    },
    {
      "cell_type": "code",
      "source": [
        "rm = ols(' cm~ my', data=data).fit()\n",
        "rm.summary()\n",
        "rm.params"
      ],
      "metadata": {
        "colab": {
          "base_uri": "https://localhost:8080/"
        },
        "id": "PBeWz5wDzPKn",
        "outputId": "0d0b9cdf-04de-4a43-c0f9-37a0c841861e"
      },
      "execution_count": 5,
      "outputs": [
        {
          "output_type": "execute_result",
          "data": {
            "text/plain": [
              "Intercept    3.189608\n",
              "my           0.222510\n",
              "dtype: float64"
            ]
          },
          "metadata": {},
          "execution_count": 5
        }
      ]
    },
    {
      "cell_type": "code",
      "source": [
        "rm = ols(' cm~ my + nsp + hom ', data=data).fit()\n",
        "rm.summary()\n",
        "rm.params"
      ],
      "metadata": {
        "colab": {
          "base_uri": "https://localhost:8080/"
        },
        "id": "-AyjW-azzraf",
        "outputId": "8cd37185-16eb-4e9d-a20c-8793ec2d51d3"
      },
      "execution_count": 8,
      "outputs": [
        {
          "output_type": "execute_result",
          "data": {
            "text/plain": [
              "Intercept    2.846755\n",
              "my           0.159287\n",
              "nsp          0.101752\n",
              "hom          0.079993\n",
              "dtype: float64"
            ]
          },
          "metadata": {},
          "execution_count": 8
        }
      ]
    },
    {
      "cell_type": "code",
      "source": [
        "ones=np.ones(shape=(5524,3))\n",
        "def dc(a,b):          \n",
        "  c=a*b\n",
        "  sum=c.sum()\n",
        "  return sum"
      ],
      "metadata": {
        "id": "ojtRpnpwzzCO"
      },
      "execution_count": 9,
      "outputs": []
    },
    {
      "cell_type": "code",
      "source": [
        "def freg(data):\n",
        "  xx=data['my']\n",
        "  xdf=pd.DataFrame({'xx':xx-0.5,'b':xx,'c':xx+0.5})\n",
        "  x=xdf.to_numpy()\n",
        "  mm1=data['nsp']\n",
        "  m1df=pd.DataFrame({'a':mm1-0.5,'b':mm1,'c':mm1+0.5})\n",
        "  m1=m1df.to_numpy()\n",
        "  mm2=data['hom']\n",
        "  m2df=pd.DataFrame({'a':mm2-0.5,'b':mm2,'c':mm2+0.5})\n",
        "  m2=m2df.to_numpy()\n",
        "  yy=data['cm']\n",
        "  ydf=pd.DataFrame({'a':yy-0.5,'b':yy,'c':yy+0.5})\n",
        "  y=ydf.to_numpy()\n",
        "  xtx=np.zeros(shape=(2,2))\n",
        "  xlist=[ones,x]\n",
        "  for i in range(0,2):    \n",
        "    for j in range(0,2):\n",
        "      xtx[i,j]= dc(xlist[i],xlist[j])\n",
        "  xtm1=np.zeros(shape=(2,1))\n",
        "  for i in range(0,2):    \n",
        "    for j in range(0,1):\n",
        "      xtm1[i,j]= dc(xlist[i],m1)\n",
        "  lxtx=np.linalg.inv(xtx)\n",
        "  b1=lxtx@xtm1\n",
        "  b1=np.around(b1, decimals=4)\n",
        "  xtm2=np.zeros(shape=(2,1))\n",
        "  for i in range(0,2):    \n",
        "    for j in range(0,1):\n",
        "      xtm2[i,j]= dc(xlist[i],m2)\n",
        "  b2=lxtx@xtm2\n",
        "  b2=np.around(b2, decimals=4)\n",
        "  xtx3=np.zeros(shape=(4,4))\n",
        "  xlist2=[ones,x,m1,m2]\n",
        "  for i in range(0,4):    \n",
        "    for j in range(0,4):\n",
        "      xtx3[i,j]= dc(xlist2[i],xlist2[j])\n",
        "  xty=np.zeros(shape=(4,1))\n",
        "  for i in range(0,4):    \n",
        "    for j in range(0,1):\n",
        "      xty[i,j]= dc(xlist2[i],y)\n",
        "  lxtx3=np.linalg.inv(xtx3)\n",
        "  b3=lxtx3@xty\n",
        "  b3=np.around(b3, decimals=4)\n",
        "  return b1,b2,b3"
      ],
      "metadata": {
        "id": "FNRHvPGJ0Ih8"
      },
      "execution_count": 10,
      "outputs": []
    },
    {
      "cell_type": "code",
      "source": [
        "xx=data['my']\n",
        "xdf=pd.DataFrame({'xx':xx-0.5,'b':xx,'c':xx+0.5})\n",
        "x=xdf.to_numpy()\n",
        "mm1=data['nsp']\n",
        "m1df=pd.DataFrame({'a':mm1-0.5,'b':mm1,'c':mm1+0.5})\n",
        "m1=m1df.to_numpy()\n",
        "mm2=data['hom']\n",
        "m2df=pd.DataFrame({'a':mm2-0.5,'b':mm2,'c':mm2+0.5})\n",
        "m2=m2df.to_numpy()\n",
        "yy=data['cm']\n",
        "ydf=pd.DataFrame({'a':yy-0.5,'b':yy,'c':yy+0.5})\n",
        "y=ydf.to_numpy()"
      ],
      "metadata": {
        "id": "RNiU2B6P0f6T"
      },
      "execution_count": 12,
      "outputs": []
    },
    {
      "cell_type": "code",
      "source": [
        "para=freg(data)\n",
        "para\n",
        "a1=para[0][1]\n",
        "a2=para[1][1]\n",
        "b1=para[2][2]\n",
        "b2=para[2][3]"
      ],
      "metadata": {
        "id": "RCffzPsD0VHq"
      },
      "execution_count": 25,
      "outputs": []
    },
    {
      "cell_type": "code",
      "source": [
        "# sea와 seb\n",
        "x_m=x.sum(axis=0)/5524\n",
        "d2=(x-x_m)**2\n",
        "sd=np.sqrt(d2.sum()/5523)\n",
        "sd\n",
        "sea=sd/np.sqrt(5524)\n",
        "\n",
        "m_m1=m1.sum(axis=0)/5524\n",
        "d2b1=(m1-m_m1)**2\n",
        "sdb1=np.sqrt(d2b1.sum()/5523)\n",
        "sdb1\n",
        "seb1=sdb1/np.sqrt(5524)\n",
        "\n",
        "m_m2=m2.sum(axis=0)/5524\n",
        "d2b2=(m2-m_m2)**2\n",
        "sdb2=np.sqrt(d2b2.sum()/5523)\n",
        "sdb2\n",
        "seb2=sdb2/np.sqrt(5524)\n",
        "seb2\n",
        "print(sea,seb1,seb2)"
      ],
      "metadata": {
        "colab": {
          "base_uri": "https://localhost:8080/"
        },
        "id": "cPohG_U80nyc",
        "outputId": "e85822e4-f4e2-4bd5-f097-14265b4eb89c"
      },
      "execution_count": 13,
      "outputs": [
        {
          "output_type": "stream",
          "name": "stdout",
          "text": [
            "0.01726927241344491 0.024461121452798648 0.02234250027005983\n"
          ]
        }
      ]
    },
    {
      "cell_type": "code",
      "source": [
        "# seab1  seab2\n",
        "seab1=np.sqrt((para[0][1]**2*seb1**2)+ (para[2][2]**2*sea**2) + (sea**2*seb1**2) )\n",
        "seab2=np.sqrt((para[1][1]**2*seb2**2)+ (para[2][3]**2*sea**2) + (sea**2*seb2**2) )\n",
        "print(seab1,seab2)"
      ],
      "metadata": {
        "colab": {
          "base_uri": "https://localhost:8080/"
        },
        "id": "EdXjxZeX1AAX",
        "outputId": "e27aaf54-cbb9-4d57-f25d-bce3fa8fea6d"
      },
      "execution_count": 14,
      "outputs": [
        {
          "output_type": "stream",
          "name": "stdout",
          "text": [
            "[0.01282618] [0.01094351]\n"
          ]
        }
      ]
    },
    {
      "cell_type": "code",
      "source": [
        "# a1의 95% 신뢰구간과 z값 검정\n",
        "CI=[a1-1.96*sea,a1+1.96*sea]\n",
        "a1z=a1/sea\n",
        "a1p = 2 * (1 - stats.norm.cdf(np.abs(a1z)))\n",
        "print(CI,a1p)"
      ],
      "metadata": {
        "colab": {
          "base_uri": "https://localhost:8080/"
        },
        "id": "xrCtEz-w4ucj",
        "outputId": "25e01d7e-230e-4fdd-9217-48a9b14dd846"
      },
      "execution_count": 33,
      "outputs": [
        {
          "output_type": "stream",
          "name": "stdout",
          "text": [
            "[array([0.48185223]), array([0.54954777])] [0.]\n"
          ]
        }
      ]
    },
    {
      "cell_type": "code",
      "source": [
        "# a2의 95% 신뢰구간과 z값 검정\n",
        "CI=[a2-1.96*sea,a2+1.96*sea]\n",
        "a2z=a2/sea\n",
        "a2p = 2 * (1 - stats.norm.cdf(np.abs(a2z)))\n",
        "print(CI,a2p)"
      ],
      "metadata": {
        "colab": {
          "base_uri": "https://localhost:8080/"
        },
        "id": "PcLtzaDs4uql",
        "outputId": "40ce51c6-a86c-41ec-f34d-070f4efa4d5d"
      },
      "execution_count": 34,
      "outputs": [
        {
          "output_type": "stream",
          "name": "stdout",
          "text": [
            "[array([0.44555223]), array([0.51324777])] [0.]\n"
          ]
        }
      ]
    },
    {
      "cell_type": "code",
      "source": [
        "# b1의 95% 신뢰구간과 z값 검정\n",
        "CI=[b1-1.96*seb1,b1+1.96*seb1]\n",
        "b1z=b1/seb1\n",
        "b1p = 2 * (1 - stats.norm.cdf(np.abs(b1z)))\n",
        "print(CI,b1p)"
      ],
      "metadata": {
        "colab": {
          "base_uri": "https://localhost:8080/"
        },
        "id": "7XN0sqhy5Qgo",
        "outputId": "c1625215-dede-42b9-b5fd-a316a15aba7e"
      },
      "execution_count": 36,
      "outputs": [
        {
          "output_type": "stream",
          "name": "stdout",
          "text": [
            "[array([0.0841562]), array([0.1800438])] [6.64900484e-08]\n"
          ]
        }
      ]
    },
    {
      "cell_type": "code",
      "source": [
        "# b2의 95% 신뢰구간과 z값 검정\n",
        "CI=[b2-1.96*seb2,b2+1.96*seb2]\n",
        "b2z=b2/seb2\n",
        "b2p = 2 * (1 - stats.norm.cdf(np.abs(b2z)))\n",
        "print(CI,b2p)"
      ],
      "metadata": {
        "colab": {
          "base_uri": "https://localhost:8080/"
        },
        "id": "ELmsx4Zp5Qq5",
        "outputId": "2979a823-84cd-4723-c768-153d6c98a0b6"
      },
      "execution_count": 35,
      "outputs": [
        {
          "output_type": "stream",
          "name": "stdout",
          "text": [
            "[array([0.0842087]), array([0.1717913])] [1.010293e-08]\n"
          ]
        }
      ]
    },
    {
      "cell_type": "code",
      "source": [
        "# ab1의 95% 신뢰구간과 z값 검정\n",
        "ab1=para[0][1]*para[2][2]\n",
        "CI=[ab1-1.96*seab1,ab1+1.96*seab1]\n",
        "z1=ab1/seab1\n",
        "p1 = 2 * (1 - stats.norm.cdf(np.abs(z1)))\n",
        "print(CI,p1)"
      ],
      "metadata": {
        "colab": {
          "base_uri": "https://localhost:8080/"
        },
        "id": "RaQvou451Cki",
        "outputId": "0cc7cba5-f3f5-45c3-9d46-c1ceffa4f70a"
      },
      "execution_count": 15,
      "outputs": [
        {
          "output_type": "stream",
          "name": "stdout",
          "text": [
            "[array([0.04298467]), array([0.09326327])] [1.08831858e-07]\n"
          ]
        }
      ]
    },
    {
      "cell_type": "code",
      "source": [
        "# ab2의 95% 신뢰구간과 z값 검정\n",
        "ab2=para[1][1]*para[2][3]\n",
        "CI2=[ab2-1.96*seab2,ab2+1.96*seab2]\n",
        "z2=ab2/seab2\n",
        "p2 = 2 * (1 - stats.norm.cdf(np.abs(z2)))\n",
        "print(CI2,p2)"
      ],
      "metadata": {
        "colab": {
          "base_uri": "https://localhost:8080/"
        },
        "id": "xYKIz9qB1JcI",
        "outputId": "440f88cb-6c97-4528-bc45-949d7cb35de2"
      },
      "execution_count": 16,
      "outputs": [
        {
          "output_type": "stream",
          "name": "stdout",
          "text": [
            "[array([0.03991392]), array([0.08281248])] [2.05545383e-08]\n"
          ]
        }
      ]
    },
    {
      "cell_type": "code",
      "source": [
        "#부트스트랩 표본\n",
        "a1_boot=[None]*5000\n",
        "a2_boot=[None]*5000\n",
        "b1_boot=[None]*5000\n",
        "b2_boot=[None]*5000\n",
        "c_boot=[None]*5000\n",
        "for i in range(0,5000):\n",
        "  new_data=data.sample(n=5524,replace=True)\n",
        "  parameters=freg(new_data)\n",
        "  a1_boot[i]= parameters[0][1]\n",
        "  a2_boot[i]= parameters[1][1]\n",
        "  c_boot[i]= parameters[2][1]\n",
        "  b1_boot[i]= parameters[2][2]\n",
        "  b2_boot[i]= parameters[2][3]"
      ],
      "metadata": {
        "id": "uewpAU9H1Nje"
      },
      "execution_count": 17,
      "outputs": []
    },
    {
      "cell_type": "code",
      "source": [
        "sns.distplot(a1_boot)"
      ],
      "metadata": {
        "colab": {
          "base_uri": "https://localhost:8080/",
          "height": 339
        },
        "id": "JeQ6ILBE1RZC",
        "outputId": "9b8ba8ce-acd5-49fc-c545-38ff781b2423"
      },
      "execution_count": 18,
      "outputs": [
        {
          "output_type": "stream",
          "name": "stderr",
          "text": [
            "/usr/local/lib/python3.8/dist-packages/seaborn/distributions.py:2619: FutureWarning: `distplot` is a deprecated function and will be removed in a future version. Please adapt your code to use either `displot` (a figure-level function with similar flexibility) or `histplot` (an axes-level function for histograms).\n",
            "  warnings.warn(msg, FutureWarning)\n"
          ]
        },
        {
          "output_type": "execute_result",
          "data": {
            "text/plain": [
              "<matplotlib.axes._subplots.AxesSubplot at 0x7f45886310a0>"
            ]
          },
          "metadata": {},
          "execution_count": 18
        },
        {
          "output_type": "display_data",
          "data": {
            "text/plain": [
              "<Figure size 432x288 with 1 Axes>"
            ],
            "image/png": "[encoded data removed]"
          },
          "metadata": {
            "needs_background": "light"
          }
        }
      ]
    },
    {
      "cell_type": "code",
      "source": [
        "sns.distplot(a2_boot)"
      ],
      "metadata": {
        "colab": {
          "base_uri": "https://localhost:8080/",
          "height": 339
        },
        "id": "OojiJ2dQ1RhT",
        "outputId": "eb02a2bc-2cc6-492d-93e8-17935303675c"
      },
      "execution_count": 19,
      "outputs": [
        {
          "output_type": "stream",
          "name": "stderr",
          "text": [
            "/usr/local/lib/python3.8/dist-packages/seaborn/distributions.py:2619: FutureWarning: `distplot` is a deprecated function and will be removed in a future version. Please adapt your code to use either `displot` (a figure-level function with similar flexibility) or `histplot` (an axes-level function for histograms).\n",
            "  warnings.warn(msg, FutureWarning)\n"
          ]
        },
        {
          "output_type": "execute_result",
          "data": {
            "text/plain": [
              "<matplotlib.axes._subplots.AxesSubplot at 0x7f45860c3280>"
            ]
          },
          "metadata": {},
          "execution_count": 19
        },
        {
          "output_type": "display_data",
          "data": {
            "text/plain": [
              "<Figure size 432x288 with 1 Axes>"
            ],
            "image/png": "[encoded data removed]"
          },
          "metadata": {
            "needs_background": "light"
          }
        }
      ]
    },
    {
      "cell_type": "code",
      "source": [
        "sns.distplot(b1_boot)"
      ],
      "metadata": {
        "colab": {
          "base_uri": "https://localhost:8080/",
          "height": 339
        },
        "id": "VSoN8oHy1Ro7",
        "outputId": "e16db655-d126-40bb-a290-e6348c1a8c59"
      },
      "execution_count": 20,
      "outputs": [
        {
          "output_type": "stream",
          "name": "stderr",
          "text": [
            "/usr/local/lib/python3.8/dist-packages/seaborn/distributions.py:2619: FutureWarning: `distplot` is a deprecated function and will be removed in a future version. Please adapt your code to use either `displot` (a figure-level function with similar flexibility) or `histplot` (an axes-level function for histograms).\n",
            "  warnings.warn(msg, FutureWarning)\n"
          ]
        },
        {
          "output_type": "execute_result",
          "data": {
            "text/plain": [
              "<matplotlib.axes._subplots.AxesSubplot at 0x7f458602a9d0>"
            ]
          },
          "metadata": {},
          "execution_count": 20
        },
        {
          "output_type": "display_data",
          "data": {
            "text/plain": [
              "<Figure size 432x288 with 1 Axes>"
            ],
            "image/png": "[encoded data removed]"
          },
          "metadata": {
            "needs_background": "light"
          }
        }
      ]
    },
    {
      "cell_type": "code",
      "source": [
        "sns.distplot(b2_boot)"
      ],
      "metadata": {
        "colab": {
          "base_uri": "https://localhost:8080/",
          "height": 339
        },
        "id": "p9xGb2eJ2Mxs",
        "outputId": "79a2579b-40e8-4cce-9bf4-efc4d48d03e1"
      },
      "execution_count": 22,
      "outputs": [
        {
          "output_type": "stream",
          "name": "stderr",
          "text": [
            "/usr/local/lib/python3.8/dist-packages/seaborn/distributions.py:2619: FutureWarning: `distplot` is a deprecated function and will be removed in a future version. Please adapt your code to use either `displot` (a figure-level function with similar flexibility) or `histplot` (an axes-level function for histograms).\n",
            "  warnings.warn(msg, FutureWarning)\n"
          ]
        },
        {
          "output_type": "execute_result",
          "data": {
            "text/plain": [
              "<matplotlib.axes._subplots.AxesSubplot at 0x7f4585eb7d00>"
            ]
          },
          "metadata": {},
          "execution_count": 22
        },
        {
          "output_type": "display_data",
          "data": {
            "text/plain": [
              "<Figure size 432x288 with 1 Axes>"
            ],
            "image/png": "[encoded data removed]"
          },
          "metadata": {
            "needs_background": "light"
          }
        }
      ]
    },
    {
      "cell_type": "code",
      "source": [
        "a1_ar=np.array(a1_boot)\n",
        "b1_ar=np.array(b1_boot)\n",
        "ab1_boot=a1_ar*b1_ar\n",
        "sns.distplot(ab1_boot)"
      ],
      "metadata": {
        "colab": {
          "base_uri": "https://localhost:8080/",
          "height": 339
        },
        "id": "V7ridjOc2OmF",
        "outputId": "3fa111d0-76a8-4f72-c762-fb65063722af"
      },
      "execution_count": 23,
      "outputs": [
        {
          "output_type": "stream",
          "name": "stderr",
          "text": [
            "/usr/local/lib/python3.8/dist-packages/seaborn/distributions.py:2619: FutureWarning: `distplot` is a deprecated function and will be removed in a future version. Please adapt your code to use either `displot` (a figure-level function with similar flexibility) or `histplot` (an axes-level function for histograms).\n",
            "  warnings.warn(msg, FutureWarning)\n"
          ]
        },
        {
          "output_type": "execute_result",
          "data": {
            "text/plain": [
              "<matplotlib.axes._subplots.AxesSubplot at 0x7f4585d7ecd0>"
            ]
          },
          "metadata": {},
          "execution_count": 23
        },
        {
          "output_type": "display_data",
          "data": {
            "text/plain": [
              "<Figure size 432x288 with 1 Axes>"
            ],
            "image/png": "[encoded data removed]"
          },
          "metadata": {
            "needs_background": "light"
          }
        }
      ]
    },
    {
      "cell_type": "code",
      "source": [
        "a2_ar=np.array(a2_boot)\n",
        "b2_ar=np.array(b2_boot)\n",
        "ab2_boot=a2_ar*b2_ar\n",
        "sns.distplot(ab2_boot)"
      ],
      "metadata": {
        "colab": {
          "base_uri": "https://localhost:8080/",
          "height": 339
        },
        "id": "4V4dKZx42OvB",
        "outputId": "7c19752d-c24f-4fe2-ca30-5d6c90131b7e"
      },
      "execution_count": 24,
      "outputs": [
        {
          "output_type": "stream",
          "name": "stderr",
          "text": [
            "/usr/local/lib/python3.8/dist-packages/seaborn/distributions.py:2619: FutureWarning: `distplot` is a deprecated function and will be removed in a future version. Please adapt your code to use either `displot` (a figure-level function with similar flexibility) or `histplot` (an axes-level function for histograms).\n",
            "  warnings.warn(msg, FutureWarning)\n"
          ]
        },
        {
          "output_type": "execute_result",
          "data": {
            "text/plain": [
              "<matplotlib.axes._subplots.AxesSubplot at 0x7f4585d43850>"
            ]
          },
          "metadata": {},
          "execution_count": 24
        },
        {
          "output_type": "display_data",
          "data": {
            "text/plain": [
              "<Figure size 432x288 with 1 Axes>"
            ],
            "image/png": "[encoded data removed]"
          },
          "metadata": {
            "needs_background": "light"
          }
        }
      ]
    },
    {
      "cell_type": "code",
      "source": [
        "# 간접효과 a1에 대한 부트스트랩 신뢰구간\n",
        "a1_boot.sort()\n",
        "al=np.abs((a1_boot[124]+ a1_boot[125])/2)\n",
        "au=np.abs((a1_boot[4873]+a1_boot[4874])/2)\n",
        "acl=[a1- al*sea,a1 + au*sea]\n",
        "acl"
      ],
      "metadata": {
        "colab": {
          "base_uri": "https://localhost:8080/"
        },
        "id": "QrjUTzAp5qiw",
        "outputId": "efb2296b-6d7a-436c-e402-263d24c2e566"
      },
      "execution_count": 37,
      "outputs": [
        {
          "output_type": "execute_result",
          "data": {
            "text/plain": [
              "[array([0.50729332]), array([0.52512298])]"
            ]
          },
          "metadata": {},
          "execution_count": 37
        }
      ]
    },
    {
      "cell_type": "code",
      "source": [
        "# 간접효과 a2에 대한 부트스트랩 신뢰구간\n",
        "a2_boot.sort()\n",
        "a2l=np.abs((a2_boot[124]+ a2_boot[125])/2)\n",
        "a2u=np.abs((a2_boot[4873]+a2_boot[4874])/2)\n",
        "a2cl=[a2- a2l*sea,a2 + a2u*sea]\n",
        "a2cl"
      ],
      "metadata": {
        "colab": {
          "base_uri": "https://localhost:8080/"
        },
        "id": "WkzLOkgE5qsB",
        "outputId": "8f94c1fd-5431-4f4b-ddf2-1014cc4784ee"
      },
      "execution_count": 38,
      "outputs": [
        {
          "output_type": "execute_result",
          "data": {
            "text/plain": [
              "[array([0.47160983]), array([0.48816761])]"
            ]
          },
          "metadata": {},
          "execution_count": 38
        }
      ]
    },
    {
      "cell_type": "code",
      "source": [
        "# 간접효과 b1에 대한 부트스트랩 신뢰구간\n",
        "b1_boot.sort()\n",
        "bl=np.abs((b1_boot[124]+ b1_boot[125])/2)\n",
        "bu=np.abs((b1_boot[4873]+b1_boot[4874])/2)\n",
        "bcl=[b1- bl*seb1,b1 + bu*seb1]\n",
        "bcl"
      ],
      "metadata": {
        "colab": {
          "base_uri": "https://localhost:8080/"
        },
        "id": "ukSsFxms6F1M",
        "outputId": "9040d2bd-f50c-451d-814d-4339ca5589f6"
      },
      "execution_count": 39,
      "outputs": [
        {
          "output_type": "execute_result",
          "data": {
            "text/plain": [
              "[array([0.1295854]), array([0.13604313])]"
            ]
          },
          "metadata": {},
          "execution_count": 39
        }
      ]
    },
    {
      "cell_type": "code",
      "source": [
        "# 간접효과 b2에 대한 부트스트랩 신뢰구간\n",
        "b2_boot.sort()\n",
        "b2l=np.abs((b2_boot[124]+ b2_boot[125])/2)\n",
        "b2u=np.abs((b2_boot[4873]+b2_boot[4874])/2)\n",
        "b2cl=[b2- b2l*seb2,b2 + b2u*seb2]\n",
        "b2cl"
      ],
      "metadata": {
        "colab": {
          "base_uri": "https://localhost:8080/"
        },
        "id": "OUJPzsXI6GCJ",
        "outputId": "4aa473ed-bd6d-4a59-d7df-c1ba6233ab55"
      },
      "execution_count": 40,
      "outputs": [
        {
          "output_type": "execute_result",
          "data": {
            "text/plain": [
              "[array([0.12577916]), array([0.13149102])]"
            ]
          },
          "metadata": {},
          "execution_count": 40
        }
      ]
    },
    {
      "cell_type": "code",
      "source": [
        "# 간접효과 ab1에 대한 부트스트랩 신뢰구간\n",
        "ab1_boot.sort()\n",
        "ab1= a1*b1\n",
        "abl=np.abs((ab1_boot[124]+ ab1_boot[125])/2)\n",
        "abu=np.abs((ab1_boot[4873]+ab1_boot[4874])/2)\n",
        "abcl=[ab1- abl*seab1,ab1 + abu*seab1]\n",
        "abcl"
      ],
      "metadata": {
        "colab": {
          "base_uri": "https://localhost:8080/"
        },
        "id": "20gUP7Z_2gGe",
        "outputId": "1b34b854-59f5-4802-fbb4-7e75811cf9a2"
      },
      "execution_count": 28,
      "outputs": [
        {
          "output_type": "execute_result",
          "data": {
            "text/plain": [
              "[array([0.06711112]), array([0.06905231])]"
            ]
          },
          "metadata": {},
          "execution_count": 28
        }
      ]
    },
    {
      "cell_type": "code",
      "source": [
        "# 간접효과 ab2에 대한 부트스트랩 신뢰구간\n",
        "ab2_boot.sort()\n",
        "ab2= a2*b2\n",
        "abl2=np.abs((ab2_boot[124]+ ab2_boot[125])/2)\n",
        "abu2=np.abs((ab2_boot[4873]+ab2_boot[4874])/2)\n",
        "abcl2=[ab2- abl2*seab2,ab2 + abu2*seab2]\n",
        "abcl2"
      ],
      "metadata": {
        "colab": {
          "base_uri": "https://localhost:8080/"
        },
        "id": "Lzkl6DwA2gPM",
        "outputId": "0f2d050b-9ddb-4529-d32e-d24344d4e377"
      },
      "execution_count": 32,
      "outputs": [
        {
          "output_type": "execute_result",
          "data": {
            "text/plain": [
              "[array([0.06072142]), array([0.06206096])]"
            ]
          },
          "metadata": {},
          "execution_count": 32
        }
      ]
    }
  ]
}